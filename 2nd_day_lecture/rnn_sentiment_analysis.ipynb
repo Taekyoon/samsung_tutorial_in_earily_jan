{
 "cells": [
  {
   "cell_type": "markdown",
   "metadata": {},
   "source": [
    "# Recurrent Neural Network를 활용한 Sentiment Analysis\n",
    "\n",
    "이번 튜토리얼은 앞선 Word2Vec 튜토리얼에서 활용한 IMDB 데이터셋을 활용하여 Sentiment Analysis를 하고자 합니다."
   ]
  },
  {
   "cell_type": "code",
   "execution_count": 1,
   "metadata": {},
   "outputs": [
    {
     "name": "stderr",
     "output_type": "stream",
     "text": [
      "/Users/taekyoon/Envs/tensorflow_pr/lib/python3.6/importlib/_bootstrap.py:205: RuntimeWarning: compiletime version 3.5 of module 'tensorflow.python.framework.fast_tensor_util' does not match runtime version 3.6\n",
      "  return f(*args, **kwds)\n"
     ]
    }
   ],
   "source": [
    "import pandas as pd\n",
    "from IPython.display import display\n",
    "from tqdm import tqdm\n",
    "import random\n",
    "import numpy as np\n",
    "\n",
    "import tensorflow as tf\n",
    "\n",
    "train = pd.read_csv(\"../src/labeledTrainData.tsv\", header=0, delimiter=\"\\t\", quoting=3)"
   ]
  },
  {
   "cell_type": "code",
   "execution_count": 2,
   "metadata": {
    "collapsed": true
   },
   "outputs": [],
   "source": [
    "def make_multi_class(labels):\n",
    "    output = np.zeros([labels.shape[0], 2])\n",
    "    for i, (label, o) in enumerate(zip(labels, output)):\n",
    "        if label == 0:\n",
    "            output[i,0] = 1\n",
    "        else:\n",
    "            output[i,1] = 1\n",
    "    \n",
    "    return output"
   ]
  },
  {
   "cell_type": "code",
   "execution_count": 3,
   "metadata": {
    "collapsed": true
   },
   "outputs": [],
   "source": [
    "labels = make_multi_class(train['sentiment'])"
   ]
  },
  {
   "cell_type": "code",
   "execution_count": 4,
   "metadata": {},
   "outputs": [
    {
     "data": {
      "text/plain": [
       "'\"With all this stuff going down at the moment with MJ i\\'ve started listening to his music, watching the odd documentary here and there, watched The Wiz and watched Moonwalker again. Maybe i just want to get a certain insight into this guy who i thought was really cool in the eighties just to maybe make up my mind whether he is guilty or innocent. Moonwalker is part biography, part feature film which i remember going to see at the cinema when it was originally released. Some of it has subtle messages about MJ\\'s feeling towards the press and also the obvious message of drugs are bad m\\'kay.<br /><br />Visually impressive but of course this is all about Michael Jackson so unless you remotely like MJ in anyway then you are going to hate this and find it boring. Some may call MJ an egotist for consenting to the making of this movie BUT MJ and most of his fans would say that he made it for the fans which if true is really nice of him.<br /><br />The actual feature film bit when it finally starts is only on for 20 minutes or so excluding the Smooth Criminal sequence and Joe Pesci is convincing as a psychopathic all powerful drug lord. Why he wants MJ dead so bad is beyond me. Because MJ overheard his plans? Nah, Joe Pesci\\'s character ranted that he wanted people to know it is he who is supplying drugs etc so i dunno, maybe he just hates MJ\\'s music.<br /><br />Lots of cool things in this like MJ turning into a car and a robot and the whole Speed Demon sequence. Also, the director must have had the patience of a saint when it came to filming the kiddy Bad sequence as usually directors hate working with one kid let alone a whole bunch of them performing a complex dance scene.<br /><br />Bottom line, this movie is for people who like MJ on one level or another (which i think is most people). If not, then stay away. It does try and give off a wholesome message and ironically MJ\\'s bestest buddy in this movie is a girl! Michael Jackson is truly one of the most talented people ever to grace this planet but is he guilty? Well, with all the attention i\\'ve gave this subject....hmmm well i don\\'t know because people can be different behind closed doors, i know this for a fact. He is either an extremely nice but stupid guy or one of the most sickest liars. I hope he is not the latter.\"'"
      ]
     },
     "execution_count": 4,
     "metadata": {},
     "output_type": "execute_result"
    }
   ],
   "source": [
    "train['review'][0]"
   ]
  },
  {
   "cell_type": "markdown",
   "metadata": {},
   "source": [
    "## Normalizing Text"
   ]
  },
  {
   "cell_type": "code",
   "execution_count": 5,
   "metadata": {
    "collapsed": true
   },
   "outputs": [],
   "source": [
    "from bs4 import BeautifulSoup\n",
    "\n",
    "def normalize_text(text):\n",
    "    return str.lower(BeautifulSoup(text, 'html.parser').get_text().strip())"
   ]
  },
  {
   "cell_type": "code",
   "execution_count": 6,
   "metadata": {},
   "outputs": [
    {
     "data": {
      "text/plain": [
       "'\"with all this stuff going down at the moment with mj i\\'ve started listening to his music, watching the odd documentary here and there, watched the wiz and watched moonwalker again. maybe i just want to get a certain insight into this guy who i thought was really cool in the eighties just to maybe make up my mind whether he is guilty or innocent. moonwalker is part biography, part feature film which i remember going to see at the cinema when it was originally released. some of it has subtle messages about mj\\'s feeling towards the press and also the obvious message of drugs are bad m\\'kay.visually impressive but of course this is all about michael jackson so unless you remotely like mj in anyway then you are going to hate this and find it boring. some may call mj an egotist for consenting to the making of this movie but mj and most of his fans would say that he made it for the fans which if true is really nice of him.the actual feature film bit when it finally starts is only on for 20 minutes or so excluding the smooth criminal sequence and joe pesci is convincing as a psychopathic all powerful drug lord. why he wants mj dead so bad is beyond me. because mj overheard his plans? nah, joe pesci\\'s character ranted that he wanted people to know it is he who is supplying drugs etc so i dunno, maybe he just hates mj\\'s music.lots of cool things in this like mj turning into a car and a robot and the whole speed demon sequence. also, the director must have had the patience of a saint when it came to filming the kiddy bad sequence as usually directors hate working with one kid let alone a whole bunch of them performing a complex dance scene.bottom line, this movie is for people who like mj on one level or another (which i think is most people). if not, then stay away. it does try and give off a wholesome message and ironically mj\\'s bestest buddy in this movie is a girl! michael jackson is truly one of the most talented people ever to grace this planet but is he guilty? well, with all the attention i\\'ve gave this subject....hmmm well i don\\'t know because people can be different behind closed doors, i know this for a fact. he is either an extremely nice but stupid guy or one of the most sickest liars. i hope he is not the latter.\"'"
      ]
     },
     "execution_count": 6,
     "metadata": {},
     "output_type": "execute_result"
    }
   ],
   "source": [
    "normalize_text(train['review'][0])"
   ]
  },
  {
   "cell_type": "markdown",
   "metadata": {},
   "source": [
    "## Tokenization \n",
    "\n",
    "nltk 라이브러리를 활용하여 단어를 tokenize 해줍니다. \n",
    "활용하는 함수는 nltk.word_tokenize() 입니다."
   ]
  },
  {
   "cell_type": "code",
   "execution_count": 7,
   "metadata": {
    "collapsed": true
   },
   "outputs": [],
   "source": [
    "import nltk\n",
    "def word_tokenize(text):\n",
    "    return [token.replace(\"''\", '\"').replace(\"``\", '\"') for token in nltk.tokenize.word_tokenize(text)]"
   ]
  },
  {
   "cell_type": "code",
   "execution_count": 8,
   "metadata": {},
   "outputs": [
    {
     "data": {
      "text/plain": [
       "['\"',\n",
       " 'with',\n",
       " 'all',\n",
       " 'this',\n",
       " 'stuff',\n",
       " 'going',\n",
       " 'down',\n",
       " 'at',\n",
       " 'the',\n",
       " 'moment',\n",
       " 'with',\n",
       " 'mj',\n",
       " 'i',\n",
       " \"'ve\",\n",
       " 'started',\n",
       " 'listening',\n",
       " 'to',\n",
       " 'his',\n",
       " 'music',\n",
       " ',',\n",
       " 'watching',\n",
       " 'the',\n",
       " 'odd',\n",
       " 'documentary',\n",
       " 'here',\n",
       " 'and',\n",
       " 'there',\n",
       " ',',\n",
       " 'watched',\n",
       " 'the',\n",
       " 'wiz',\n",
       " 'and',\n",
       " 'watched',\n",
       " 'moonwalker',\n",
       " 'again',\n",
       " '.',\n",
       " 'maybe',\n",
       " 'i',\n",
       " 'just',\n",
       " 'want',\n",
       " 'to',\n",
       " 'get',\n",
       " 'a',\n",
       " 'certain',\n",
       " 'insight',\n",
       " 'into',\n",
       " 'this',\n",
       " 'guy',\n",
       " 'who',\n",
       " 'i',\n",
       " 'thought',\n",
       " 'was',\n",
       " 'really',\n",
       " 'cool',\n",
       " 'in',\n",
       " 'the',\n",
       " 'eighties',\n",
       " 'just',\n",
       " 'to',\n",
       " 'maybe',\n",
       " 'make',\n",
       " 'up',\n",
       " 'my',\n",
       " 'mind',\n",
       " 'whether',\n",
       " 'he',\n",
       " 'is',\n",
       " 'guilty',\n",
       " 'or',\n",
       " 'innocent',\n",
       " '.',\n",
       " 'moonwalker',\n",
       " 'is',\n",
       " 'part',\n",
       " 'biography',\n",
       " ',',\n",
       " 'part',\n",
       " 'feature',\n",
       " 'film',\n",
       " 'which',\n",
       " 'i',\n",
       " 'remember',\n",
       " 'going',\n",
       " 'to',\n",
       " 'see',\n",
       " 'at',\n",
       " 'the',\n",
       " 'cinema',\n",
       " 'when',\n",
       " 'it',\n",
       " 'was',\n",
       " 'originally',\n",
       " 'released',\n",
       " '.',\n",
       " 'some',\n",
       " 'of',\n",
       " 'it',\n",
       " 'has',\n",
       " 'subtle',\n",
       " 'messages',\n",
       " 'about',\n",
       " 'mj',\n",
       " \"'s\",\n",
       " 'feeling',\n",
       " 'towards',\n",
       " 'the',\n",
       " 'press',\n",
       " 'and',\n",
       " 'also',\n",
       " 'the',\n",
       " 'obvious',\n",
       " 'message',\n",
       " 'of',\n",
       " 'drugs',\n",
       " 'are',\n",
       " 'bad',\n",
       " \"m'kay.visually\",\n",
       " 'impressive',\n",
       " 'but',\n",
       " 'of',\n",
       " 'course',\n",
       " 'this',\n",
       " 'is',\n",
       " 'all',\n",
       " 'about',\n",
       " 'michael',\n",
       " 'jackson',\n",
       " 'so',\n",
       " 'unless',\n",
       " 'you',\n",
       " 'remotely',\n",
       " 'like',\n",
       " 'mj',\n",
       " 'in',\n",
       " 'anyway',\n",
       " 'then',\n",
       " 'you',\n",
       " 'are',\n",
       " 'going',\n",
       " 'to',\n",
       " 'hate',\n",
       " 'this',\n",
       " 'and',\n",
       " 'find',\n",
       " 'it',\n",
       " 'boring',\n",
       " '.',\n",
       " 'some',\n",
       " 'may',\n",
       " 'call',\n",
       " 'mj',\n",
       " 'an',\n",
       " 'egotist',\n",
       " 'for',\n",
       " 'consenting',\n",
       " 'to',\n",
       " 'the',\n",
       " 'making',\n",
       " 'of',\n",
       " 'this',\n",
       " 'movie',\n",
       " 'but',\n",
       " 'mj',\n",
       " 'and',\n",
       " 'most',\n",
       " 'of',\n",
       " 'his',\n",
       " 'fans',\n",
       " 'would',\n",
       " 'say',\n",
       " 'that',\n",
       " 'he',\n",
       " 'made',\n",
       " 'it',\n",
       " 'for',\n",
       " 'the',\n",
       " 'fans',\n",
       " 'which',\n",
       " 'if',\n",
       " 'true',\n",
       " 'is',\n",
       " 'really',\n",
       " 'nice',\n",
       " 'of',\n",
       " 'him.the',\n",
       " 'actual',\n",
       " 'feature',\n",
       " 'film',\n",
       " 'bit',\n",
       " 'when',\n",
       " 'it',\n",
       " 'finally',\n",
       " 'starts',\n",
       " 'is',\n",
       " 'only',\n",
       " 'on',\n",
       " 'for',\n",
       " '20',\n",
       " 'minutes',\n",
       " 'or',\n",
       " 'so',\n",
       " 'excluding',\n",
       " 'the',\n",
       " 'smooth',\n",
       " 'criminal',\n",
       " 'sequence',\n",
       " 'and',\n",
       " 'joe',\n",
       " 'pesci',\n",
       " 'is',\n",
       " 'convincing',\n",
       " 'as',\n",
       " 'a',\n",
       " 'psychopathic',\n",
       " 'all',\n",
       " 'powerful',\n",
       " 'drug',\n",
       " 'lord',\n",
       " '.',\n",
       " 'why',\n",
       " 'he',\n",
       " 'wants',\n",
       " 'mj',\n",
       " 'dead',\n",
       " 'so',\n",
       " 'bad',\n",
       " 'is',\n",
       " 'beyond',\n",
       " 'me',\n",
       " '.',\n",
       " 'because',\n",
       " 'mj',\n",
       " 'overheard',\n",
       " 'his',\n",
       " 'plans',\n",
       " '?',\n",
       " 'nah',\n",
       " ',',\n",
       " 'joe',\n",
       " 'pesci',\n",
       " \"'s\",\n",
       " 'character',\n",
       " 'ranted',\n",
       " 'that',\n",
       " 'he',\n",
       " 'wanted',\n",
       " 'people',\n",
       " 'to',\n",
       " 'know',\n",
       " 'it',\n",
       " 'is',\n",
       " 'he',\n",
       " 'who',\n",
       " 'is',\n",
       " 'supplying',\n",
       " 'drugs',\n",
       " 'etc',\n",
       " 'so',\n",
       " 'i',\n",
       " 'dunno',\n",
       " ',',\n",
       " 'maybe',\n",
       " 'he',\n",
       " 'just',\n",
       " 'hates',\n",
       " 'mj',\n",
       " \"'s\",\n",
       " 'music.lots',\n",
       " 'of',\n",
       " 'cool',\n",
       " 'things',\n",
       " 'in',\n",
       " 'this',\n",
       " 'like',\n",
       " 'mj',\n",
       " 'turning',\n",
       " 'into',\n",
       " 'a',\n",
       " 'car',\n",
       " 'and',\n",
       " 'a',\n",
       " 'robot',\n",
       " 'and',\n",
       " 'the',\n",
       " 'whole',\n",
       " 'speed',\n",
       " 'demon',\n",
       " 'sequence',\n",
       " '.',\n",
       " 'also',\n",
       " ',',\n",
       " 'the',\n",
       " 'director',\n",
       " 'must',\n",
       " 'have',\n",
       " 'had',\n",
       " 'the',\n",
       " 'patience',\n",
       " 'of',\n",
       " 'a',\n",
       " 'saint',\n",
       " 'when',\n",
       " 'it',\n",
       " 'came',\n",
       " 'to',\n",
       " 'filming',\n",
       " 'the',\n",
       " 'kiddy',\n",
       " 'bad',\n",
       " 'sequence',\n",
       " 'as',\n",
       " 'usually',\n",
       " 'directors',\n",
       " 'hate',\n",
       " 'working',\n",
       " 'with',\n",
       " 'one',\n",
       " 'kid',\n",
       " 'let',\n",
       " 'alone',\n",
       " 'a',\n",
       " 'whole',\n",
       " 'bunch',\n",
       " 'of',\n",
       " 'them',\n",
       " 'performing',\n",
       " 'a',\n",
       " 'complex',\n",
       " 'dance',\n",
       " 'scene.bottom',\n",
       " 'line',\n",
       " ',',\n",
       " 'this',\n",
       " 'movie',\n",
       " 'is',\n",
       " 'for',\n",
       " 'people',\n",
       " 'who',\n",
       " 'like',\n",
       " 'mj',\n",
       " 'on',\n",
       " 'one',\n",
       " 'level',\n",
       " 'or',\n",
       " 'another',\n",
       " '(',\n",
       " 'which',\n",
       " 'i',\n",
       " 'think',\n",
       " 'is',\n",
       " 'most',\n",
       " 'people',\n",
       " ')',\n",
       " '.',\n",
       " 'if',\n",
       " 'not',\n",
       " ',',\n",
       " 'then',\n",
       " 'stay',\n",
       " 'away',\n",
       " '.',\n",
       " 'it',\n",
       " 'does',\n",
       " 'try',\n",
       " 'and',\n",
       " 'give',\n",
       " 'off',\n",
       " 'a',\n",
       " 'wholesome',\n",
       " 'message',\n",
       " 'and',\n",
       " 'ironically',\n",
       " 'mj',\n",
       " \"'s\",\n",
       " 'bestest',\n",
       " 'buddy',\n",
       " 'in',\n",
       " 'this',\n",
       " 'movie',\n",
       " 'is',\n",
       " 'a',\n",
       " 'girl',\n",
       " '!',\n",
       " 'michael',\n",
       " 'jackson',\n",
       " 'is',\n",
       " 'truly',\n",
       " 'one',\n",
       " 'of',\n",
       " 'the',\n",
       " 'most',\n",
       " 'talented',\n",
       " 'people',\n",
       " 'ever',\n",
       " 'to',\n",
       " 'grace',\n",
       " 'this',\n",
       " 'planet',\n",
       " 'but',\n",
       " 'is',\n",
       " 'he',\n",
       " 'guilty',\n",
       " '?',\n",
       " 'well',\n",
       " ',',\n",
       " 'with',\n",
       " 'all',\n",
       " 'the',\n",
       " 'attention',\n",
       " 'i',\n",
       " \"'ve\",\n",
       " 'gave',\n",
       " 'this',\n",
       " 'subject',\n",
       " '...',\n",
       " '.hmmm',\n",
       " 'well',\n",
       " 'i',\n",
       " 'do',\n",
       " \"n't\",\n",
       " 'know',\n",
       " 'because',\n",
       " 'people',\n",
       " 'can',\n",
       " 'be',\n",
       " 'different',\n",
       " 'behind',\n",
       " 'closed',\n",
       " 'doors',\n",
       " ',',\n",
       " 'i',\n",
       " 'know',\n",
       " 'this',\n",
       " 'for',\n",
       " 'a',\n",
       " 'fact',\n",
       " '.',\n",
       " 'he',\n",
       " 'is',\n",
       " 'either',\n",
       " 'an',\n",
       " 'extremely',\n",
       " 'nice',\n",
       " 'but',\n",
       " 'stupid',\n",
       " 'guy',\n",
       " 'or',\n",
       " 'one',\n",
       " 'of',\n",
       " 'the',\n",
       " 'most',\n",
       " 'sickest',\n",
       " 'liars',\n",
       " '.',\n",
       " 'i',\n",
       " 'hope',\n",
       " 'he',\n",
       " 'is',\n",
       " 'not',\n",
       " 'the',\n",
       " 'latter',\n",
       " '.',\n",
       " '\"']"
      ]
     },
     "execution_count": 8,
     "metadata": {},
     "output_type": "execute_result"
    }
   ],
   "source": [
    "word_tokenize(normalize_text(train['review'][0]))"
   ]
  },
  {
   "cell_type": "markdown",
   "metadata": {},
   "source": [
    "## Data Packaging\n",
    "\n",
    "학습을 위해 input과 target 데이터를 하나의 인스턴스로 패키징 합니다."
   ]
  },
  {
   "cell_type": "code",
   "execution_count": 9,
   "metadata": {
    "collapsed": true
   },
   "outputs": [],
   "source": [
    "def preprocess_data(data, labels):\n",
    "    prepro_data = []\n",
    "    for item, label in tqdm(zip(data, labels)):\n",
    "        instance = {\n",
    "                    \"input_seq\": word_tokenize(normalize_text(item)),\n",
    "                    \"label\": label\n",
    "                    }\n",
    "        prepro_data.append(instance)\n",
    "    return prepro_data"
   ]
  },
  {
   "cell_type": "code",
   "execution_count": 10,
   "metadata": {},
   "outputs": [
    {
     "name": "stderr",
     "output_type": "stream",
     "text": [
      "25000it [01:01, 406.52it/s]\n"
     ]
    }
   ],
   "source": [
    "dataset = preprocess_data(train['review'], labels)"
   ]
  },
  {
   "cell_type": "code",
   "execution_count": 11,
   "metadata": {},
   "outputs": [
    {
     "data": {
      "text/plain": [
       "{'input_seq': ['\"',\n",
       "  'with',\n",
       "  'all',\n",
       "  'this',\n",
       "  'stuff',\n",
       "  'going',\n",
       "  'down',\n",
       "  'at',\n",
       "  'the',\n",
       "  'moment',\n",
       "  'with',\n",
       "  'mj',\n",
       "  'i',\n",
       "  \"'ve\",\n",
       "  'started',\n",
       "  'listening',\n",
       "  'to',\n",
       "  'his',\n",
       "  'music',\n",
       "  ',',\n",
       "  'watching',\n",
       "  'the',\n",
       "  'odd',\n",
       "  'documentary',\n",
       "  'here',\n",
       "  'and',\n",
       "  'there',\n",
       "  ',',\n",
       "  'watched',\n",
       "  'the',\n",
       "  'wiz',\n",
       "  'and',\n",
       "  'watched',\n",
       "  'moonwalker',\n",
       "  'again',\n",
       "  '.',\n",
       "  'maybe',\n",
       "  'i',\n",
       "  'just',\n",
       "  'want',\n",
       "  'to',\n",
       "  'get',\n",
       "  'a',\n",
       "  'certain',\n",
       "  'insight',\n",
       "  'into',\n",
       "  'this',\n",
       "  'guy',\n",
       "  'who',\n",
       "  'i',\n",
       "  'thought',\n",
       "  'was',\n",
       "  'really',\n",
       "  'cool',\n",
       "  'in',\n",
       "  'the',\n",
       "  'eighties',\n",
       "  'just',\n",
       "  'to',\n",
       "  'maybe',\n",
       "  'make',\n",
       "  'up',\n",
       "  'my',\n",
       "  'mind',\n",
       "  'whether',\n",
       "  'he',\n",
       "  'is',\n",
       "  'guilty',\n",
       "  'or',\n",
       "  'innocent',\n",
       "  '.',\n",
       "  'moonwalker',\n",
       "  'is',\n",
       "  'part',\n",
       "  'biography',\n",
       "  ',',\n",
       "  'part',\n",
       "  'feature',\n",
       "  'film',\n",
       "  'which',\n",
       "  'i',\n",
       "  'remember',\n",
       "  'going',\n",
       "  'to',\n",
       "  'see',\n",
       "  'at',\n",
       "  'the',\n",
       "  'cinema',\n",
       "  'when',\n",
       "  'it',\n",
       "  'was',\n",
       "  'originally',\n",
       "  'released',\n",
       "  '.',\n",
       "  'some',\n",
       "  'of',\n",
       "  'it',\n",
       "  'has',\n",
       "  'subtle',\n",
       "  'messages',\n",
       "  'about',\n",
       "  'mj',\n",
       "  \"'s\",\n",
       "  'feeling',\n",
       "  'towards',\n",
       "  'the',\n",
       "  'press',\n",
       "  'and',\n",
       "  'also',\n",
       "  'the',\n",
       "  'obvious',\n",
       "  'message',\n",
       "  'of',\n",
       "  'drugs',\n",
       "  'are',\n",
       "  'bad',\n",
       "  \"m'kay.visually\",\n",
       "  'impressive',\n",
       "  'but',\n",
       "  'of',\n",
       "  'course',\n",
       "  'this',\n",
       "  'is',\n",
       "  'all',\n",
       "  'about',\n",
       "  'michael',\n",
       "  'jackson',\n",
       "  'so',\n",
       "  'unless',\n",
       "  'you',\n",
       "  'remotely',\n",
       "  'like',\n",
       "  'mj',\n",
       "  'in',\n",
       "  'anyway',\n",
       "  'then',\n",
       "  'you',\n",
       "  'are',\n",
       "  'going',\n",
       "  'to',\n",
       "  'hate',\n",
       "  'this',\n",
       "  'and',\n",
       "  'find',\n",
       "  'it',\n",
       "  'boring',\n",
       "  '.',\n",
       "  'some',\n",
       "  'may',\n",
       "  'call',\n",
       "  'mj',\n",
       "  'an',\n",
       "  'egotist',\n",
       "  'for',\n",
       "  'consenting',\n",
       "  'to',\n",
       "  'the',\n",
       "  'making',\n",
       "  'of',\n",
       "  'this',\n",
       "  'movie',\n",
       "  'but',\n",
       "  'mj',\n",
       "  'and',\n",
       "  'most',\n",
       "  'of',\n",
       "  'his',\n",
       "  'fans',\n",
       "  'would',\n",
       "  'say',\n",
       "  'that',\n",
       "  'he',\n",
       "  'made',\n",
       "  'it',\n",
       "  'for',\n",
       "  'the',\n",
       "  'fans',\n",
       "  'which',\n",
       "  'if',\n",
       "  'true',\n",
       "  'is',\n",
       "  'really',\n",
       "  'nice',\n",
       "  'of',\n",
       "  'him.the',\n",
       "  'actual',\n",
       "  'feature',\n",
       "  'film',\n",
       "  'bit',\n",
       "  'when',\n",
       "  'it',\n",
       "  'finally',\n",
       "  'starts',\n",
       "  'is',\n",
       "  'only',\n",
       "  'on',\n",
       "  'for',\n",
       "  '20',\n",
       "  'minutes',\n",
       "  'or',\n",
       "  'so',\n",
       "  'excluding',\n",
       "  'the',\n",
       "  'smooth',\n",
       "  'criminal',\n",
       "  'sequence',\n",
       "  'and',\n",
       "  'joe',\n",
       "  'pesci',\n",
       "  'is',\n",
       "  'convincing',\n",
       "  'as',\n",
       "  'a',\n",
       "  'psychopathic',\n",
       "  'all',\n",
       "  'powerful',\n",
       "  'drug',\n",
       "  'lord',\n",
       "  '.',\n",
       "  'why',\n",
       "  'he',\n",
       "  'wants',\n",
       "  'mj',\n",
       "  'dead',\n",
       "  'so',\n",
       "  'bad',\n",
       "  'is',\n",
       "  'beyond',\n",
       "  'me',\n",
       "  '.',\n",
       "  'because',\n",
       "  'mj',\n",
       "  'overheard',\n",
       "  'his',\n",
       "  'plans',\n",
       "  '?',\n",
       "  'nah',\n",
       "  ',',\n",
       "  'joe',\n",
       "  'pesci',\n",
       "  \"'s\",\n",
       "  'character',\n",
       "  'ranted',\n",
       "  'that',\n",
       "  'he',\n",
       "  'wanted',\n",
       "  'people',\n",
       "  'to',\n",
       "  'know',\n",
       "  'it',\n",
       "  'is',\n",
       "  'he',\n",
       "  'who',\n",
       "  'is',\n",
       "  'supplying',\n",
       "  'drugs',\n",
       "  'etc',\n",
       "  'so',\n",
       "  'i',\n",
       "  'dunno',\n",
       "  ',',\n",
       "  'maybe',\n",
       "  'he',\n",
       "  'just',\n",
       "  'hates',\n",
       "  'mj',\n",
       "  \"'s\",\n",
       "  'music.lots',\n",
       "  'of',\n",
       "  'cool',\n",
       "  'things',\n",
       "  'in',\n",
       "  'this',\n",
       "  'like',\n",
       "  'mj',\n",
       "  'turning',\n",
       "  'into',\n",
       "  'a',\n",
       "  'car',\n",
       "  'and',\n",
       "  'a',\n",
       "  'robot',\n",
       "  'and',\n",
       "  'the',\n",
       "  'whole',\n",
       "  'speed',\n",
       "  'demon',\n",
       "  'sequence',\n",
       "  '.',\n",
       "  'also',\n",
       "  ',',\n",
       "  'the',\n",
       "  'director',\n",
       "  'must',\n",
       "  'have',\n",
       "  'had',\n",
       "  'the',\n",
       "  'patience',\n",
       "  'of',\n",
       "  'a',\n",
       "  'saint',\n",
       "  'when',\n",
       "  'it',\n",
       "  'came',\n",
       "  'to',\n",
       "  'filming',\n",
       "  'the',\n",
       "  'kiddy',\n",
       "  'bad',\n",
       "  'sequence',\n",
       "  'as',\n",
       "  'usually',\n",
       "  'directors',\n",
       "  'hate',\n",
       "  'working',\n",
       "  'with',\n",
       "  'one',\n",
       "  'kid',\n",
       "  'let',\n",
       "  'alone',\n",
       "  'a',\n",
       "  'whole',\n",
       "  'bunch',\n",
       "  'of',\n",
       "  'them',\n",
       "  'performing',\n",
       "  'a',\n",
       "  'complex',\n",
       "  'dance',\n",
       "  'scene.bottom',\n",
       "  'line',\n",
       "  ',',\n",
       "  'this',\n",
       "  'movie',\n",
       "  'is',\n",
       "  'for',\n",
       "  'people',\n",
       "  'who',\n",
       "  'like',\n",
       "  'mj',\n",
       "  'on',\n",
       "  'one',\n",
       "  'level',\n",
       "  'or',\n",
       "  'another',\n",
       "  '(',\n",
       "  'which',\n",
       "  'i',\n",
       "  'think',\n",
       "  'is',\n",
       "  'most',\n",
       "  'people',\n",
       "  ')',\n",
       "  '.',\n",
       "  'if',\n",
       "  'not',\n",
       "  ',',\n",
       "  'then',\n",
       "  'stay',\n",
       "  'away',\n",
       "  '.',\n",
       "  'it',\n",
       "  'does',\n",
       "  'try',\n",
       "  'and',\n",
       "  'give',\n",
       "  'off',\n",
       "  'a',\n",
       "  'wholesome',\n",
       "  'message',\n",
       "  'and',\n",
       "  'ironically',\n",
       "  'mj',\n",
       "  \"'s\",\n",
       "  'bestest',\n",
       "  'buddy',\n",
       "  'in',\n",
       "  'this',\n",
       "  'movie',\n",
       "  'is',\n",
       "  'a',\n",
       "  'girl',\n",
       "  '!',\n",
       "  'michael',\n",
       "  'jackson',\n",
       "  'is',\n",
       "  'truly',\n",
       "  'one',\n",
       "  'of',\n",
       "  'the',\n",
       "  'most',\n",
       "  'talented',\n",
       "  'people',\n",
       "  'ever',\n",
       "  'to',\n",
       "  'grace',\n",
       "  'this',\n",
       "  'planet',\n",
       "  'but',\n",
       "  'is',\n",
       "  'he',\n",
       "  'guilty',\n",
       "  '?',\n",
       "  'well',\n",
       "  ',',\n",
       "  'with',\n",
       "  'all',\n",
       "  'the',\n",
       "  'attention',\n",
       "  'i',\n",
       "  \"'ve\",\n",
       "  'gave',\n",
       "  'this',\n",
       "  'subject',\n",
       "  '...',\n",
       "  '.hmmm',\n",
       "  'well',\n",
       "  'i',\n",
       "  'do',\n",
       "  \"n't\",\n",
       "  'know',\n",
       "  'because',\n",
       "  'people',\n",
       "  'can',\n",
       "  'be',\n",
       "  'different',\n",
       "  'behind',\n",
       "  'closed',\n",
       "  'doors',\n",
       "  ',',\n",
       "  'i',\n",
       "  'know',\n",
       "  'this',\n",
       "  'for',\n",
       "  'a',\n",
       "  'fact',\n",
       "  '.',\n",
       "  'he',\n",
       "  'is',\n",
       "  'either',\n",
       "  'an',\n",
       "  'extremely',\n",
       "  'nice',\n",
       "  'but',\n",
       "  'stupid',\n",
       "  'guy',\n",
       "  'or',\n",
       "  'one',\n",
       "  'of',\n",
       "  'the',\n",
       "  'most',\n",
       "  'sickest',\n",
       "  'liars',\n",
       "  '.',\n",
       "  'i',\n",
       "  'hope',\n",
       "  'he',\n",
       "  'is',\n",
       "  'not',\n",
       "  'the',\n",
       "  'latter',\n",
       "  '.',\n",
       "  '\"'],\n",
       " 'label': array([ 0.,  1.])}"
      ]
     },
     "execution_count": 11,
     "metadata": {},
     "output_type": "execute_result"
    }
   ],
   "source": [
    "dataset[0]"
   ]
  },
  {
   "cell_type": "markdown",
   "metadata": {},
   "source": [
    "## Creat Vocabulary\n",
    "\n",
    "NLP에서는 일반적으로 Word Embedding을 위해 모델에 lookup embedding 모듈을 둡니다. 따라서 모델에 들어가는 문장 sequence 내용은 전부 인덱스번호 sequence로 들어갑니다. 이들을 단어에서 인덱스로 또는 인덱스에서 단어로 변환해주기 위해 Vocabulary를 만듭니다."
   ]
  },
  {
   "cell_type": "code",
   "execution_count": 12,
   "metadata": {
    "collapsed": true
   },
   "outputs": [],
   "source": [
    "__PAD__ = \"@@PAD@@\"\n",
    "__UNK__ = \"@@UNK@@\"\n",
    "\n",
    "def create_vocabulary(dataset):\n",
    "    word2idx, idx2word = {__PAD__: 0, __UNK__: 1}, {0: __PAD__, 1: __UNK__}\n",
    "    indexer = 2\n",
    "    \n",
    "    for instance in tqdm(dataset):\n",
    "        for token in instance[\"input_seq\"]:\n",
    "            if token not in word2idx:\n",
    "                word2idx[token] = indexer\n",
    "                idx2word[indexer] = token\n",
    "                indexer += 1\n",
    "    return word2idx, idx2word"
   ]
  },
  {
   "cell_type": "code",
   "execution_count": 13,
   "metadata": {},
   "outputs": [
    {
     "name": "stderr",
     "output_type": "stream",
     "text": [
      "100%|██████████| 25000/25000 [00:00<00:00, 25277.29it/s]\n"
     ]
    }
   ],
   "source": [
    "word2idx, idx2word = create_vocabulary(dataset)"
   ]
  },
  {
   "cell_type": "code",
   "execution_count": 14,
   "metadata": {},
   "outputs": [
    {
     "data": {
      "text/plain": [
       "'Vocab Size: 143352'"
      ]
     },
     "metadata": {},
     "output_type": "display_data"
    }
   ],
   "source": [
    "display(\"Vocab Size: \" + str(len(word2idx)))"
   ]
  },
  {
   "cell_type": "markdown",
   "metadata": {},
   "source": [
    "## Data Shuffle 및 Test Dataset 구분"
   ]
  },
  {
   "cell_type": "code",
   "execution_count": 15,
   "metadata": {
    "collapsed": true
   },
   "outputs": [],
   "source": [
    "from random import shuffle\n",
    "\n",
    "dev_portion = 0.1\n",
    "split_pos = int(len(dataset) * (1 - dev_portion))\n",
    "\n",
    "shuffle(dataset)\n",
    "\n",
    "train_dataset, dev_dataset = dataset[:split_pos], dataset[split_pos:]"
   ]
  },
  {
   "cell_type": "code",
   "execution_count": 16,
   "metadata": {},
   "outputs": [
    {
     "data": {
      "text/plain": [
       "'Train Dataset Count: 22500'"
      ]
     },
     "metadata": {},
     "output_type": "display_data"
    },
    {
     "data": {
      "text/plain": [
       "'Dev Dataset Count: 2500'"
      ]
     },
     "metadata": {},
     "output_type": "display_data"
    }
   ],
   "source": [
    "display(\"Train Dataset Count: \" + str(len(train_dataset)))\n",
    "display(\"Dev Dataset Count: \" + str(len(dev_dataset)))"
   ]
  },
  {
   "cell_type": "markdown",
   "metadata": {},
   "source": [
    "## Model 생성\n",
    "\n",
    "RNN모델을 생성하기 위해 Model class를 구현합니다."
   ]
  },
  {
   "cell_type": "code",
   "execution_count": 17,
   "metadata": {
    "collapsed": true
   },
   "outputs": [],
   "source": [
    "class SentimentModel(object):\n",
    "    def __init__(self, \n",
    "                 _vocab_size, \n",
    "                 _hidden_dim, \n",
    "                 _num_classes, \n",
    "                 _num_layers=1,\n",
    "                 _learning_rate=0.01):\n",
    "        \n",
    "        self.vocab_size = _vocab_size\n",
    "        self.hidden_dim = _hidden_dim\n",
    "        self.num_layers = _num_layers\n",
    "        self.num_classes = _num_classes\n",
    "        \n",
    "        self.learning_rate = _learning_rate\n",
    "        \n",
    "        self.inputs = tf.placeholder(tf.int64, [None, None])\n",
    "        self.targets = tf.placeholder(tf.int64, [None, self.num_classes])\n",
    "        \n",
    "        self.weight_initializer = tf.contrib.layers.xavier_initializer()\n",
    "        self.const_initializer = tf.constant_initializer(0.0)\n",
    "        self.emb_initializer = tf.random_uniform_initializer(minval=-1.0, maxval=1.0)\n",
    "        \n",
    "        self.train_op = None\n",
    "        self.cost = None\n",
    "        \n",
    "        self.build_model()\n",
    "        \n",
    "    def _word_embedding(self, inputs, reuse=False):\n",
    "        with tf.variable_scope('word_embedding', reuse=reuse):\n",
    "            weight = tf.get_variable('w', [self.vocab_size, self.hidden_dim], initializer=self.emb_initializer)\n",
    "            word_vectors = tf.nn.embedding_lookup(weight, inputs, name='word_vector')  # (N, T, M) or (N, M)\n",
    "            return word_vectors\n",
    "        \n",
    "    def _lstm_cell(self):\n",
    "        rnn_cell = tf.contrib.rnn.BasicLSTMCell(self.hidden_dim)\n",
    "        return rnn_cell\n",
    "    \n",
    "    def _build_cells(self):\n",
    "        f_cell = tf.contrib.rnn.MultiRNNCell([self._lstm_cell() for _ in range(self.num_layers)])\n",
    "        b_cell = tf.contrib.rnn.MultiRNNCell([self._lstm_cell() for _ in range(self.num_layers)])\n",
    "        \n",
    "        return f_cell, b_cell\n",
    "    \n",
    "    def build_model(self):\n",
    "        word_vectors = self._word_embedding(self.inputs)\n",
    "        \n",
    "        f_cell, b_cell = self._build_cells()\n",
    "        \n",
    "        with tf.variable_scope('encode'):\n",
    "            (fw_h, bw_h), _ = tf.nn.bidirectional_dynamic_rnn(f_cell, b_cell, word_vectors, dtype=tf.float32)\n",
    "            h = tf.concat(axis=-1, values=[fw_h, bw_h])\n",
    "        \n",
    "        encoded_vector = h[:, -1, :]\n",
    "        \n",
    "        logits = tf.layers.dense(encoded_vector, self.num_classes)\n",
    "        \n",
    "        self.outputs = tf.argmax(logits, 1)\n",
    "        self.cost, self.train_op = self._build_ops(logits, self.targets)\n",
    "        \n",
    "    def _build_ops(self, logits, targets):\n",
    "        cost = tf.reduce_mean(tf.nn.softmax_cross_entropy_with_logits(logits=logits, labels=targets))\n",
    "        train_op = tf.train.AdamOptimizer(learning_rate=self.learning_rate).minimize(cost)\n",
    "        \n",
    "        return cost, train_op\n",
    "    \n",
    "    def train(self, session, _inputs, _targets):\n",
    "        return session.run([self.train_op, self.cost], \n",
    "                           feed_dict={self.inputs: _inputs, \n",
    "                                      self.targets: _targets})\n",
    "    \n",
    "    def test(self, session, _inputs, _targets):\n",
    "        prediction_check = tf.equal(self.outputs, tf.argmax(self.targets, 1))\n",
    "        accuracy = tf.reduce_mean(tf.cast(prediction_check, tf.float32))\n",
    "        \n",
    "        return session.run([self.targets, self.outputs, accuracy],\n",
    "                           feed_dict={self.inputs:_inputs,\n",
    "                                      self.targets:_targets})    "
   ]
  },
  {
   "cell_type": "markdown",
   "metadata": {},
   "source": [
    "## Batch Loader 구현\n",
    "\n",
    "Batch Loader는 학습할 데이터를 구성하는 역할을 합니다. 따라서, 딥러닝 학습을 하는데 중요한 역할을 합니다. 또한, NLP에서는 모델학습 속도를 높히는데 중요한 역할을 하기도 합니다. 주로 Bucketing 기법을 Batch Loader에 적용하여 모델학습 속도를 높힙니다."
   ]
  },
  {
   "cell_type": "code",
   "execution_count": 18,
   "metadata": {
    "collapsed": true
   },
   "outputs": [],
   "source": [
    "class BatchLoader(object):\n",
    "    def __init__(self, dataset, word2idx, max_passage_len=None, shuffle=True, batch_size=30):\n",
    "        self.dataset = dataset\n",
    "        self.word2idx = word2idx\n",
    "        self.batch_index_pool = []\n",
    "\n",
    "        self.max_passage_len = max_passage_len\n",
    "        self.batch_size = batch_size\n",
    "        self.current_position = 0\n",
    "        self.shuffle = shuffle\n",
    "\n",
    "        if self.max_passage_len:\n",
    "            self.passage_len_limit()\n",
    "        \n",
    "        self.bins = self.build_bins(self.dataset)\n",
    "        self.reset()\n",
    "        print(\"Total number of data: \", len(self.dataset))\n",
    "        print(\"===================================\")\n",
    "        print(\"\")\n",
    "\n",
    "    def get_total_instance(self):\n",
    "        return len(self.dataset)\n",
    "\n",
    "    def build_bins(self, data):\n",
    "        round_to_power = lambda x: int(x / 100 + 1) * 100\n",
    "\n",
    "        doc_len = map(lambda x: round_to_power(len(x[\"input_seq\"])), data)\n",
    "\n",
    "        bins = {}\n",
    "        for i, l in enumerate(doc_len):\n",
    "            if l not in bins:\n",
    "                bins[l] = []\n",
    "            bins[l].append(i)\n",
    "        return bins\n",
    "\n",
    "    def reset(self):\n",
    "        self.current_position = 0\n",
    "\n",
    "        if self.shuffle:\n",
    "            for ixs in iter(self.bins.values()):\n",
    "                random.shuffle(ixs)\n",
    "\n",
    "        self.batch_index_pool = []\n",
    "\n",
    "        for l, ixs in self.bins.items():\n",
    "            m = len(ixs)\n",
    "            k = m / self.batch_size if m % self.batch_size == 0 else m / self.batch_size + 1\n",
    "            k = int(k)\n",
    "            ixs_list = [(ixs[self.batch_size * i:min(m, self.batch_size * (i + 1))], l) for i in range(k)]\n",
    "            self.batch_index_pool += ixs_list\n",
    "\n",
    "        # randomly shuffle the mini-batches\n",
    "        if self.shuffle:\n",
    "            random.shuffle(self.batch_index_pool)\n",
    "\n",
    "    def passage_len_limit(self):\n",
    "        filtered_dataset = []\n",
    "        for instance in tqdm(self.dataset):\n",
    "            if len(instance[\"input_seq\"]) <= self.max_passage_len:\n",
    "                filtered_dataset.append(instance)\n",
    "        print(\"Dataset filtered \", len(filtered_dataset), \"/\", len(self.dataset))\n",
    "        print(\"Dataset Changed!\")\n",
    "        self.dataset = filtered_dataset\n",
    "\n",
    "    def __iter__(self):\n",
    "        return self\n",
    "\n",
    "    def __next__(self):\n",
    "        return self.next()\n",
    "\n",
    "    def next(self):\n",
    "        if self.current_position == len(self.batch_index_pool):\n",
    "            print(\"#\" * 30)\n",
    "            print(\"End Iteration\")\n",
    "            self.reset()\n",
    "            raise StopIteration()\n",
    "\n",
    "        indicies = self.batch_index_pool[self.current_position][0]\n",
    "        self.current_position += 1\n",
    "        \n",
    "        batch_size = len(indicies)\n",
    "\n",
    "        max_passage_len = max([len(self.dataset[idx][\"input_seq\"]) for idx in indicies]) + 1\n",
    "\n",
    "        passage = np.zeros((batch_size, max_passage_len), dtype='int64')\n",
    "        labels = []\n",
    "\n",
    "        for i, idx in enumerate(indicies):\n",
    "            instance = self.dataset[idx]\n",
    "            passage_input = [self.word2idx[word] for word in instance[\"input_seq\"]]\n",
    "\n",
    "            passage[i, :len(passage_input)] = np.array(passage_input)\n",
    "            labels.append(instance[\"label\"])\n",
    "        \n",
    "        target = np.array(labels, dtype='float32')\n",
    "        batch_dict = {\"input_seq\": passage,\n",
    "                      \"target\": target}\n",
    "\n",
    "        return batch_dict"
   ]
  },
  {
   "cell_type": "code",
   "execution_count": 19,
   "metadata": {
    "collapsed": true
   },
   "outputs": [],
   "source": [
    "class AverageMeter(object):\n",
    "    \"\"\"\n",
    "    Computes and stores the average and current value\n",
    "    Borrowed from ImageNet training in PyTorch project\n",
    "    https://github.com/pytorch/examples/tree/master/imagenet\n",
    "    \"\"\"\n",
    "    def __init__(self):\n",
    "        self.reset()\n",
    "\n",
    "    def reset(self):\n",
    "        self.val = 0\n",
    "        self.avg = 0\n",
    "        self.sum = 0\n",
    "        self.count = 0\n",
    "\n",
    "    def update(self, val, n=1):\n",
    "        self.val = val\n",
    "        self.sum += val * n\n",
    "        self.count += n\n",
    "        self.avg = self.sum / self.count"
   ]
  },
  {
   "cell_type": "markdown",
   "metadata": {},
   "source": [
    "## Batch Loader 준비\n",
    "\n",
    "일반 컴퓨터에서는 긴 문장에 대한 classification이 어렵기 때문에 문장의 길이를 100으로 제한하여 학습합니다."
   ]
  },
  {
   "cell_type": "code",
   "execution_count": 20,
   "metadata": {},
   "outputs": [
    {
     "name": "stderr",
     "output_type": "stream",
     "text": [
      "100%|██████████| 22500/22500 [00:00<00:00, 707122.34it/s]\n",
      "100%|██████████| 2500/2500 [00:00<00:00, 607975.88it/s]"
     ]
    },
    {
     "name": "stdout",
     "output_type": "stream",
     "text": [
      "Dataset filtered  2072 / 22500\n",
      "Dataset Changed!\n",
      "Total number of data:  2072\n",
      "===================================\n",
      "\n",
      "Dataset filtered  226 / 2500\n",
      "Dataset Changed!\n",
      "Total number of data:  226\n",
      "===================================\n",
      "\n"
     ]
    },
    {
     "name": "stderr",
     "output_type": "stream",
     "text": [
      "\n"
     ]
    }
   ],
   "source": [
    "train_loader = BatchLoader(train_dataset, word2idx, max_passage_len=100)\n",
    "dev_loader = BatchLoader(dev_dataset, word2idx, max_passage_len=100)"
   ]
  },
  {
   "cell_type": "markdown",
   "metadata": {},
   "source": [
    "## Model 실험"
   ]
  },
  {
   "cell_type": "code",
   "execution_count": 21,
   "metadata": {
    "collapsed": true
   },
   "outputs": [],
   "source": [
    "vocab_size = len(word2idx)\n",
    "hidden_dim = 100\n",
    "num_classes = 2\n",
    "\n",
    "tf.reset_default_graph()\n",
    "model = SentimentModel(vocab_size, \n",
    "                       hidden_dim, \n",
    "                       num_classes)"
   ]
  },
  {
   "cell_type": "code",
   "execution_count": 23,
   "metadata": {},
   "outputs": [
    {
     "name": "stderr",
     "output_type": "stream",
     "text": [
      "1it [00:00,  2.16it/s]"
     ]
    },
    {
     "name": "stdout",
     "output_type": "stream",
     "text": [
      "epoch: 1, step: 1, loss: 0.58, accuracy: 0.77\n"
     ]
    },
    {
     "name": "stderr",
     "output_type": "stream",
     "text": [
      "11it [00:03,  2.77it/s]"
     ]
    },
    {
     "name": "stdout",
     "output_type": "stream",
     "text": [
      "epoch: 1, step: 11, loss: 1.27, accuracy: 0.46\n"
     ]
    },
    {
     "name": "stderr",
     "output_type": "stream",
     "text": [
      "21it [00:07,  2.82it/s]"
     ]
    },
    {
     "name": "stdout",
     "output_type": "stream",
     "text": [
      "epoch: 1, step: 21, loss: 1.00, accuracy: 0.51\n"
     ]
    },
    {
     "name": "stderr",
     "output_type": "stream",
     "text": [
      "31it [00:10,  2.84it/s]"
     ]
    },
    {
     "name": "stdout",
     "output_type": "stream",
     "text": [
      "epoch: 1, step: 31, loss: 0.90, accuracy: 0.52\n"
     ]
    },
    {
     "name": "stderr",
     "output_type": "stream",
     "text": [
      "41it [00:14,  2.84it/s]"
     ]
    },
    {
     "name": "stdout",
     "output_type": "stream",
     "text": [
      "epoch: 1, step: 41, loss: 0.85, accuracy: 0.53\n"
     ]
    },
    {
     "name": "stderr",
     "output_type": "stream",
     "text": [
      "51it [00:18,  2.81it/s]"
     ]
    },
    {
     "name": "stdout",
     "output_type": "stream",
     "text": [
      "epoch: 1, step: 51, loss: 0.82, accuracy: 0.54\n"
     ]
    },
    {
     "name": "stderr",
     "output_type": "stream",
     "text": [
      "61it [00:22,  2.75it/s]"
     ]
    },
    {
     "name": "stdout",
     "output_type": "stream",
     "text": [
      "epoch: 1, step: 61, loss: 0.79, accuracy: 0.55\n"
     ]
    },
    {
     "name": "stderr",
     "output_type": "stream",
     "text": [
      "70it [00:25,  2.70it/s]\n",
      "0it [00:00, ?it/s]"
     ]
    },
    {
     "name": "stdout",
     "output_type": "stream",
     "text": [
      "##############################\n",
      "End Iteration\n"
     ]
    },
    {
     "name": "stderr",
     "output_type": "stream",
     "text": [
      "\r",
      "1it [00:00,  2.00it/s]"
     ]
    },
    {
     "name": "stdout",
     "output_type": "stream",
     "text": [
      "epoch: 2, step: 1, loss: 0.67, accuracy: 0.60\n"
     ]
    },
    {
     "name": "stderr",
     "output_type": "stream",
     "text": [
      "11it [00:05,  2.11it/s]"
     ]
    },
    {
     "name": "stdout",
     "output_type": "stream",
     "text": [
      "epoch: 2, step: 11, loss: 0.69, accuracy: 0.55\n"
     ]
    },
    {
     "name": "stderr",
     "output_type": "stream",
     "text": [
      "21it [00:09,  2.22it/s]"
     ]
    },
    {
     "name": "stdout",
     "output_type": "stream",
     "text": [
      "epoch: 2, step: 21, loss: 0.69, accuracy: 0.54\n"
     ]
    },
    {
     "name": "stderr",
     "output_type": "stream",
     "text": [
      "31it [00:13,  2.24it/s]"
     ]
    },
    {
     "name": "stdout",
     "output_type": "stream",
     "text": [
      "epoch: 2, step: 31, loss: 0.69, accuracy: 0.55\n"
     ]
    },
    {
     "name": "stderr",
     "output_type": "stream",
     "text": [
      "41it [00:18,  2.26it/s]"
     ]
    },
    {
     "name": "stdout",
     "output_type": "stream",
     "text": [
      "epoch: 2, step: 41, loss: 0.69, accuracy: 0.56\n"
     ]
    },
    {
     "name": "stderr",
     "output_type": "stream",
     "text": [
      "51it [00:22,  2.30it/s]"
     ]
    },
    {
     "name": "stdout",
     "output_type": "stream",
     "text": [
      "epoch: 2, step: 51, loss: 0.69, accuracy: 0.56\n"
     ]
    },
    {
     "name": "stderr",
     "output_type": "stream",
     "text": [
      "61it [00:25,  2.35it/s]"
     ]
    },
    {
     "name": "stdout",
     "output_type": "stream",
     "text": [
      "epoch: 2, step: 61, loss: 0.69, accuracy: 0.57\n"
     ]
    },
    {
     "name": "stderr",
     "output_type": "stream",
     "text": [
      "70it [00:29,  2.40it/s]\n",
      "0it [00:00, ?it/s]"
     ]
    },
    {
     "name": "stdout",
     "output_type": "stream",
     "text": [
      "##############################\n",
      "End Iteration\n"
     ]
    },
    {
     "name": "stderr",
     "output_type": "stream",
     "text": [
      "\r",
      "1it [00:00,  2.77it/s]"
     ]
    },
    {
     "name": "stdout",
     "output_type": "stream",
     "text": [
      "epoch: 3, step: 1, loss: 0.68, accuracy: 0.63\n"
     ]
    },
    {
     "name": "stderr",
     "output_type": "stream",
     "text": [
      "11it [00:03,  2.78it/s]"
     ]
    },
    {
     "name": "stdout",
     "output_type": "stream",
     "text": [
      "epoch: 3, step: 11, loss: 0.68, accuracy: 0.56\n"
     ]
    },
    {
     "name": "stderr",
     "output_type": "stream",
     "text": [
      "21it [00:07,  2.74it/s]"
     ]
    },
    {
     "name": "stdout",
     "output_type": "stream",
     "text": [
      "epoch: 3, step: 21, loss: 0.68, accuracy: 0.58\n"
     ]
    },
    {
     "name": "stderr",
     "output_type": "stream",
     "text": [
      "31it [00:11,  2.75it/s]"
     ]
    },
    {
     "name": "stdout",
     "output_type": "stream",
     "text": [
      "epoch: 3, step: 31, loss: 0.68, accuracy: 0.58\n"
     ]
    },
    {
     "name": "stderr",
     "output_type": "stream",
     "text": [
      "41it [00:14,  2.77it/s]"
     ]
    },
    {
     "name": "stdout",
     "output_type": "stream",
     "text": [
      "epoch: 3, step: 41, loss: 0.69, accuracy: 0.57\n"
     ]
    },
    {
     "name": "stderr",
     "output_type": "stream",
     "text": [
      "51it [00:18,  2.77it/s]"
     ]
    },
    {
     "name": "stdout",
     "output_type": "stream",
     "text": [
      "epoch: 3, step: 51, loss: 0.69, accuracy: 0.57\n"
     ]
    },
    {
     "name": "stderr",
     "output_type": "stream",
     "text": [
      "61it [00:22,  2.76it/s]"
     ]
    },
    {
     "name": "stdout",
     "output_type": "stream",
     "text": [
      "epoch: 3, step: 61, loss: 0.69, accuracy: 0.57\n"
     ]
    },
    {
     "name": "stderr",
     "output_type": "stream",
     "text": [
      "70it [00:25,  2.73it/s]\n",
      "0it [00:00, ?it/s]"
     ]
    },
    {
     "name": "stdout",
     "output_type": "stream",
     "text": [
      "##############################\n",
      "End Iteration\n"
     ]
    },
    {
     "name": "stderr",
     "output_type": "stream",
     "text": [
      "\r",
      "1it [00:00,  1.95it/s]"
     ]
    },
    {
     "name": "stdout",
     "output_type": "stream",
     "text": [
      "epoch: 4, step: 1, loss: 0.69, accuracy: 0.53\n"
     ]
    },
    {
     "name": "stderr",
     "output_type": "stream",
     "text": [
      "11it [00:04,  2.22it/s]"
     ]
    },
    {
     "name": "stdout",
     "output_type": "stream",
     "text": [
      "epoch: 4, step: 11, loss: 0.69, accuracy: 0.57\n"
     ]
    },
    {
     "name": "stderr",
     "output_type": "stream",
     "text": [
      "21it [00:09,  2.13it/s]"
     ]
    },
    {
     "name": "stdout",
     "output_type": "stream",
     "text": [
      "epoch: 4, step: 21, loss: 0.68, accuracy: 0.61\n"
     ]
    },
    {
     "name": "stderr",
     "output_type": "stream",
     "text": [
      "31it [00:13,  2.24it/s]"
     ]
    },
    {
     "name": "stdout",
     "output_type": "stream",
     "text": [
      "epoch: 4, step: 31, loss: 0.67, accuracy: 0.64\n"
     ]
    },
    {
     "name": "stderr",
     "output_type": "stream",
     "text": [
      "41it [00:18,  2.25it/s]"
     ]
    },
    {
     "name": "stdout",
     "output_type": "stream",
     "text": [
      "epoch: 4, step: 41, loss: 0.66, accuracy: 0.65\n"
     ]
    },
    {
     "name": "stderr",
     "output_type": "stream",
     "text": [
      "51it [00:22,  2.22it/s]"
     ]
    },
    {
     "name": "stdout",
     "output_type": "stream",
     "text": [
      "epoch: 4, step: 51, loss: 0.64, accuracy: 0.69\n"
     ]
    },
    {
     "name": "stderr",
     "output_type": "stream",
     "text": [
      "61it [00:27,  2.22it/s]"
     ]
    },
    {
     "name": "stdout",
     "output_type": "stream",
     "text": [
      "epoch: 4, step: 61, loss: 0.63, accuracy: 0.70\n"
     ]
    },
    {
     "name": "stderr",
     "output_type": "stream",
     "text": [
      "70it [00:31,  2.25it/s]\n",
      "0it [00:00, ?it/s]"
     ]
    },
    {
     "name": "stdout",
     "output_type": "stream",
     "text": [
      "##############################\n",
      "End Iteration\n"
     ]
    },
    {
     "name": "stderr",
     "output_type": "stream",
     "text": [
      "\r",
      "1it [00:00,  2.81it/s]"
     ]
    },
    {
     "name": "stdout",
     "output_type": "stream",
     "text": [
      "epoch: 5, step: 1, loss: 0.45, accuracy: 0.90\n"
     ]
    },
    {
     "name": "stderr",
     "output_type": "stream",
     "text": [
      "11it [00:04,  2.26it/s]"
     ]
    },
    {
     "name": "stdout",
     "output_type": "stream",
     "text": [
      "epoch: 5, step: 11, loss: 0.42, accuracy: 0.90\n"
     ]
    },
    {
     "name": "stderr",
     "output_type": "stream",
     "text": [
      "21it [00:08,  2.41it/s]"
     ]
    },
    {
     "name": "stdout",
     "output_type": "stream",
     "text": [
      "epoch: 5, step: 21, loss: 0.40, accuracy: 0.91\n"
     ]
    },
    {
     "name": "stderr",
     "output_type": "stream",
     "text": [
      "31it [00:13,  2.33it/s]"
     ]
    },
    {
     "name": "stdout",
     "output_type": "stream",
     "text": [
      "epoch: 5, step: 31, loss: 0.39, accuracy: 0.91\n"
     ]
    },
    {
     "name": "stderr",
     "output_type": "stream",
     "text": [
      "41it [00:17,  2.33it/s]"
     ]
    },
    {
     "name": "stdout",
     "output_type": "stream",
     "text": [
      "epoch: 5, step: 41, loss: 0.39, accuracy: 0.90\n"
     ]
    },
    {
     "name": "stderr",
     "output_type": "stream",
     "text": [
      "51it [00:21,  2.37it/s]"
     ]
    },
    {
     "name": "stdout",
     "output_type": "stream",
     "text": [
      "epoch: 5, step: 51, loss: 0.39, accuracy: 0.90\n"
     ]
    },
    {
     "name": "stderr",
     "output_type": "stream",
     "text": [
      "61it [00:25,  2.40it/s]"
     ]
    },
    {
     "name": "stdout",
     "output_type": "stream",
     "text": [
      "epoch: 5, step: 61, loss: 0.37, accuracy: 0.91\n"
     ]
    },
    {
     "name": "stderr",
     "output_type": "stream",
     "text": [
      "70it [00:28,  2.42it/s]\n",
      "0it [00:00, ?it/s]"
     ]
    },
    {
     "name": "stdout",
     "output_type": "stream",
     "text": [
      "##############################\n",
      "End Iteration\n"
     ]
    },
    {
     "name": "stderr",
     "output_type": "stream",
     "text": [
      "\r",
      "1it [00:00,  2.71it/s]"
     ]
    },
    {
     "name": "stdout",
     "output_type": "stream",
     "text": [
      "epoch: 6, step: 1, loss: 0.17, accuracy: 0.97\n"
     ]
    },
    {
     "name": "stderr",
     "output_type": "stream",
     "text": [
      "11it [00:04,  2.47it/s]"
     ]
    },
    {
     "name": "stdout",
     "output_type": "stream",
     "text": [
      "epoch: 6, step: 11, loss: 0.18, accuracy: 0.96\n"
     ]
    },
    {
     "name": "stderr",
     "output_type": "stream",
     "text": [
      "21it [00:08,  2.50it/s]"
     ]
    },
    {
     "name": "stdout",
     "output_type": "stream",
     "text": [
      "epoch: 6, step: 21, loss: 0.16, accuracy: 0.96\n"
     ]
    },
    {
     "name": "stderr",
     "output_type": "stream",
     "text": [
      "31it [00:12,  2.51it/s]"
     ]
    },
    {
     "name": "stdout",
     "output_type": "stream",
     "text": [
      "epoch: 6, step: 31, loss: 0.17, accuracy: 0.96\n"
     ]
    },
    {
     "name": "stderr",
     "output_type": "stream",
     "text": [
      "41it [00:16,  2.50it/s]"
     ]
    },
    {
     "name": "stdout",
     "output_type": "stream",
     "text": [
      "epoch: 6, step: 41, loss: 0.17, accuracy: 0.96\n"
     ]
    },
    {
     "name": "stderr",
     "output_type": "stream",
     "text": [
      "51it [00:20,  2.52it/s]"
     ]
    },
    {
     "name": "stdout",
     "output_type": "stream",
     "text": [
      "epoch: 6, step: 51, loss: 0.17, accuracy: 0.96\n"
     ]
    },
    {
     "name": "stderr",
     "output_type": "stream",
     "text": [
      "61it [00:24,  2.54it/s]"
     ]
    },
    {
     "name": "stdout",
     "output_type": "stream",
     "text": [
      "epoch: 6, step: 61, loss: 0.17, accuracy: 0.96\n"
     ]
    },
    {
     "name": "stderr",
     "output_type": "stream",
     "text": [
      "70it [00:27,  2.55it/s]\n",
      "0it [00:00, ?it/s]"
     ]
    },
    {
     "name": "stdout",
     "output_type": "stream",
     "text": [
      "##############################\n",
      "End Iteration\n"
     ]
    },
    {
     "name": "stderr",
     "output_type": "stream",
     "text": [
      "\r",
      "1it [00:00,  2.60it/s]"
     ]
    },
    {
     "name": "stdout",
     "output_type": "stream",
     "text": [
      "epoch: 7, step: 1, loss: 0.04, accuracy: 1.00\n"
     ]
    },
    {
     "name": "stderr",
     "output_type": "stream",
     "text": [
      "11it [00:04,  2.65it/s]"
     ]
    },
    {
     "name": "stdout",
     "output_type": "stream",
     "text": [
      "epoch: 7, step: 11, loss: 0.09, accuracy: 0.98\n"
     ]
    },
    {
     "name": "stderr",
     "output_type": "stream",
     "text": [
      "21it [00:07,  2.64it/s]"
     ]
    },
    {
     "name": "stdout",
     "output_type": "stream",
     "text": [
      "epoch: 7, step: 21, loss: 0.09, accuracy: 0.98\n"
     ]
    },
    {
     "name": "stderr",
     "output_type": "stream",
     "text": [
      "31it [00:11,  2.64it/s]"
     ]
    },
    {
     "name": "stdout",
     "output_type": "stream",
     "text": [
      "epoch: 7, step: 31, loss: 0.08, accuracy: 0.98\n"
     ]
    },
    {
     "name": "stderr",
     "output_type": "stream",
     "text": [
      "41it [00:15,  2.63it/s]"
     ]
    },
    {
     "name": "stdout",
     "output_type": "stream",
     "text": [
      "epoch: 7, step: 41, loss: 0.10, accuracy: 0.97\n"
     ]
    },
    {
     "name": "stderr",
     "output_type": "stream",
     "text": [
      "51it [00:19,  2.63it/s]"
     ]
    },
    {
     "name": "stdout",
     "output_type": "stream",
     "text": [
      "epoch: 7, step: 51, loss: 0.09, accuracy: 0.98\n"
     ]
    },
    {
     "name": "stderr",
     "output_type": "stream",
     "text": [
      "61it [00:23,  2.63it/s]"
     ]
    },
    {
     "name": "stdout",
     "output_type": "stream",
     "text": [
      "epoch: 7, step: 61, loss: 0.10, accuracy: 0.98\n"
     ]
    },
    {
     "name": "stderr",
     "output_type": "stream",
     "text": [
      "70it [00:26,  2.63it/s]\n",
      "0it [00:00, ?it/s]"
     ]
    },
    {
     "name": "stdout",
     "output_type": "stream",
     "text": [
      "##############################\n",
      "End Iteration\n"
     ]
    },
    {
     "name": "stderr",
     "output_type": "stream",
     "text": [
      "\r",
      "1it [00:00,  2.56it/s]"
     ]
    },
    {
     "name": "stdout",
     "output_type": "stream",
     "text": [
      "epoch: 8, step: 1, loss: 0.04, accuracy: 1.00\n"
     ]
    },
    {
     "name": "stderr",
     "output_type": "stream",
     "text": [
      "11it [00:04,  2.56it/s]"
     ]
    },
    {
     "name": "stdout",
     "output_type": "stream",
     "text": [
      "epoch: 8, step: 11, loss: 0.05, accuracy: 1.00\n"
     ]
    },
    {
     "name": "stderr",
     "output_type": "stream",
     "text": [
      "21it [00:08,  2.46it/s]"
     ]
    },
    {
     "name": "stdout",
     "output_type": "stream",
     "text": [
      "epoch: 8, step: 21, loss: 0.05, accuracy: 0.99\n"
     ]
    },
    {
     "name": "stderr",
     "output_type": "stream",
     "text": [
      "31it [00:12,  2.49it/s]"
     ]
    },
    {
     "name": "stdout",
     "output_type": "stream",
     "text": [
      "epoch: 8, step: 31, loss: 0.05, accuracy: 0.99\n"
     ]
    },
    {
     "name": "stderr",
     "output_type": "stream",
     "text": [
      "41it [00:16,  2.50it/s]"
     ]
    },
    {
     "name": "stdout",
     "output_type": "stream",
     "text": [
      "epoch: 8, step: 41, loss: 0.06, accuracy: 0.99\n"
     ]
    },
    {
     "name": "stderr",
     "output_type": "stream",
     "text": [
      "51it [00:20,  2.52it/s]"
     ]
    },
    {
     "name": "stdout",
     "output_type": "stream",
     "text": [
      "epoch: 8, step: 51, loss: 0.05, accuracy: 0.99\n"
     ]
    },
    {
     "name": "stderr",
     "output_type": "stream",
     "text": [
      "61it [00:24,  2.52it/s]"
     ]
    },
    {
     "name": "stdout",
     "output_type": "stream",
     "text": [
      "epoch: 8, step: 61, loss: 0.05, accuracy: 0.99\n"
     ]
    },
    {
     "name": "stderr",
     "output_type": "stream",
     "text": [
      "70it [00:27,  2.53it/s]\n",
      "0it [00:00, ?it/s]"
     ]
    },
    {
     "name": "stdout",
     "output_type": "stream",
     "text": [
      "##############################\n",
      "End Iteration\n"
     ]
    },
    {
     "name": "stderr",
     "output_type": "stream",
     "text": [
      "\r",
      "1it [00:00,  2.51it/s]"
     ]
    },
    {
     "name": "stdout",
     "output_type": "stream",
     "text": [
      "epoch: 9, step: 1, loss: 0.01, accuracy: 1.00\n"
     ]
    },
    {
     "name": "stderr",
     "output_type": "stream",
     "text": [
      "11it [00:04,  2.56it/s]"
     ]
    },
    {
     "name": "stdout",
     "output_type": "stream",
     "text": [
      "epoch: 9, step: 11, loss: 0.02, accuracy: 1.00\n"
     ]
    },
    {
     "name": "stderr",
     "output_type": "stream",
     "text": [
      "21it [00:08,  2.55it/s]"
     ]
    },
    {
     "name": "stdout",
     "output_type": "stream",
     "text": [
      "epoch: 9, step: 21, loss: 0.02, accuracy: 1.00\n"
     ]
    },
    {
     "name": "stderr",
     "output_type": "stream",
     "text": [
      "31it [00:12,  2.56it/s]"
     ]
    },
    {
     "name": "stdout",
     "output_type": "stream",
     "text": [
      "epoch: 9, step: 31, loss: 0.02, accuracy: 1.00\n"
     ]
    },
    {
     "name": "stderr",
     "output_type": "stream",
     "text": [
      "41it [00:16,  2.54it/s]"
     ]
    },
    {
     "name": "stdout",
     "output_type": "stream",
     "text": [
      "epoch: 9, step: 41, loss: 0.02, accuracy: 1.00\n"
     ]
    },
    {
     "name": "stderr",
     "output_type": "stream",
     "text": [
      "51it [00:20,  2.54it/s]"
     ]
    },
    {
     "name": "stdout",
     "output_type": "stream",
     "text": [
      "epoch: 9, step: 51, loss: 0.03, accuracy: 1.00\n"
     ]
    },
    {
     "name": "stderr",
     "output_type": "stream",
     "text": [
      "61it [00:24,  2.54it/s]"
     ]
    },
    {
     "name": "stdout",
     "output_type": "stream",
     "text": [
      "epoch: 9, step: 61, loss: 0.03, accuracy: 1.00\n"
     ]
    },
    {
     "name": "stderr",
     "output_type": "stream",
     "text": [
      "70it [00:27,  2.53it/s]\n",
      "0it [00:00, ?it/s]"
     ]
    },
    {
     "name": "stdout",
     "output_type": "stream",
     "text": [
      "##############################\n",
      "End Iteration\n"
     ]
    },
    {
     "name": "stderr",
     "output_type": "stream",
     "text": [
      "\r",
      "1it [00:00,  2.59it/s]"
     ]
    },
    {
     "name": "stdout",
     "output_type": "stream",
     "text": [
      "epoch: 10, step: 1, loss: 0.01, accuracy: 1.00\n"
     ]
    },
    {
     "name": "stderr",
     "output_type": "stream",
     "text": [
      "11it [00:04,  2.51it/s]"
     ]
    },
    {
     "name": "stdout",
     "output_type": "stream",
     "text": [
      "epoch: 10, step: 11, loss: 0.01, accuracy: 1.00\n"
     ]
    },
    {
     "name": "stderr",
     "output_type": "stream",
     "text": [
      "21it [00:08,  2.49it/s]"
     ]
    },
    {
     "name": "stdout",
     "output_type": "stream",
     "text": [
      "epoch: 10, step: 21, loss: 0.02, accuracy: 1.00\n"
     ]
    },
    {
     "name": "stderr",
     "output_type": "stream",
     "text": [
      "31it [00:12,  2.50it/s]"
     ]
    },
    {
     "name": "stdout",
     "output_type": "stream",
     "text": [
      "epoch: 10, step: 31, loss: 0.01, accuracy: 1.00\n"
     ]
    },
    {
     "name": "stderr",
     "output_type": "stream",
     "text": [
      "41it [00:16,  2.50it/s]"
     ]
    },
    {
     "name": "stdout",
     "output_type": "stream",
     "text": [
      "epoch: 10, step: 41, loss: 0.02, accuracy: 1.00\n"
     ]
    },
    {
     "name": "stderr",
     "output_type": "stream",
     "text": [
      "51it [00:20,  2.50it/s]"
     ]
    },
    {
     "name": "stdout",
     "output_type": "stream",
     "text": [
      "epoch: 10, step: 51, loss: 0.01, accuracy: 1.00\n"
     ]
    },
    {
     "name": "stderr",
     "output_type": "stream",
     "text": [
      "61it [00:24,  2.50it/s]"
     ]
    },
    {
     "name": "stdout",
     "output_type": "stream",
     "text": [
      "epoch: 10, step: 61, loss: 0.01, accuracy: 1.00\n"
     ]
    },
    {
     "name": "stderr",
     "output_type": "stream",
     "text": [
      "70it [00:28,  2.48it/s]\n",
      "0it [00:00, ?it/s]"
     ]
    },
    {
     "name": "stdout",
     "output_type": "stream",
     "text": [
      "##############################\n",
      "End Iteration\n"
     ]
    },
    {
     "name": "stderr",
     "output_type": "stream",
     "text": [
      "9it [00:02,  3.47it/s]"
     ]
    },
    {
     "name": "stdout",
     "output_type": "stream",
     "text": [
      "##############################\n",
      "End Iteration\n",
      "Dev set accuracy: 0.97\n"
     ]
    },
    {
     "name": "stderr",
     "output_type": "stream",
     "text": [
      "\n"
     ]
    }
   ],
   "source": [
    "num_epochs = 10\n",
    "checkpoint = 10\n",
    "\n",
    "with tf.Session() as sess:\n",
    "    sess.run(tf.global_variables_initializer())\n",
    "    \n",
    "    for epoch in range(num_epochs):\n",
    "        avg_loss = AverageMeter()\n",
    "        avg_acc = AverageMeter()\n",
    "        for i, data in enumerate(tqdm(train_loader)):\n",
    "            inputs, targets = data[\"input_seq\"], data[\"target\"]\n",
    "            _, loss = model.train(sess, inputs, targets)\n",
    "            _, _, accuracy = model.test(sess, inputs, targets)\n",
    "            \n",
    "            avg_loss.update(loss)\n",
    "            avg_acc.update(accuracy)\n",
    "            \n",
    "            if i % checkpoint == 0:\n",
    "                message = \"epoch: %d, step: %d, loss: %1.2f, accuracy: %1.2f\" % (epoch+1, i+1, avg_loss.avg, avg_acc.avg)\n",
    "                print(message)\n",
    "    \n",
    "    dev_avg_acc = AverageMeter()\n",
    "    for i, data in enumerate(tqdm(dev_loader)):\n",
    "        inputs, targets = data[\"input_seq\"], data[\"target\"]\n",
    "        _, _, accuracy = model.test(sess, inputs, targets)\n",
    "        avg_acc.update(accuracy)\n",
    "        \n",
    "    message = \"Dev set accuracy: %1.2f\" % (avg_acc.avg)\n",
    "    print(message)"
   ]
  }
 ],
 "metadata": {
  "kernelspec": {
   "display_name": "Python 3",
   "language": "python",
   "name": "python3"
  },
  "language_info": {
   "codemirror_mode": {
    "name": "ipython",
    "version": 3
   },
   "file_extension": ".py",
   "mimetype": "text/x-python",
   "name": "python",
   "nbconvert_exporter": "python",
   "pygments_lexer": "ipython3",
   "version": "3.6.0"
  }
 },
 "nbformat": 4,
 "nbformat_minor": 2
}
