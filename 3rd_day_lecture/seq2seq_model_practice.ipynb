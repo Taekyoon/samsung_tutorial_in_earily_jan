{
 "cells": [
  {
   "cell_type": "markdown",
   "metadata": {},
   "source": [
    "# Seq2Seq 간단한 구현\n",
    "\n",
    "이번 튜토리얼에서는 영어단어를 한글단어로 번역하는 Seq2seq 모델을 구현하고자 합니다."
   ]
  },
  {
   "cell_type": "code",
   "execution_count": 1,
   "metadata": {},
   "outputs": [
    {
     "name": "stderr",
     "output_type": "stream",
     "text": [
      "/Users/taekyoon/Envs/tensorflow_pr/lib/python3.6/importlib/_bootstrap.py:205: RuntimeWarning: compiletime version 3.5 of module 'tensorflow.python.framework.fast_tensor_util' does not match runtime version 3.6\n",
      "  return f(*args, **kwds)\n"
     ]
    }
   ],
   "source": [
    "import tensorflow as tf\n",
    "import numpy as np"
   ]
  },
  {
   "cell_type": "markdown",
   "metadata": {},
   "source": [
    "## Vocabulary set 만들기"
   ]
  },
  {
   "cell_type": "code",
   "execution_count": 2,
   "metadata": {
    "collapsed": true
   },
   "outputs": [],
   "source": [
    "char_arr = [c for c in 'SEPabcdefghijklmnopqrstuvwxyz단어나무놀이소녀키스사랑']\n",
    "num_dic = {n: i for i, n in enumerate(char_arr)}\n",
    "dic_len = len(num_dic)"
   ]
  },
  {
   "cell_type": "markdown",
   "metadata": {},
   "source": [
    " ## Toy Dataset"
   ]
  },
  {
   "cell_type": "code",
   "execution_count": 3,
   "metadata": {
    "collapsed": true
   },
   "outputs": [],
   "source": [
    "seq_data = [['word', '단어'], ['wood', '나무'],\n",
    "            ['game', '놀이'], ['girl', '소녀'],\n",
    "            ['kiss', '키스'], ['love', '사랑']]"
   ]
  },
  {
   "cell_type": "markdown",
   "metadata": {},
   "source": [
    "## Batch 생성"
   ]
  },
  {
   "cell_type": "code",
   "execution_count": 4,
   "metadata": {
    "collapsed": true
   },
   "outputs": [],
   "source": [
    "def make_batch(seq_data):\n",
    "    input_batch = []\n",
    "    output_batch = []\n",
    "    target_batch = []\n",
    "\n",
    "    for seq in seq_data:\n",
    "        # 인코더 셀의 입력값. 입력단어의 글자들을 한글자씩 떼어 배열로 만든다.\n",
    "        input = [num_dic[n] for n in seq[0]]\n",
    "        # 디코더 셀의 입력값. 시작을 나타내는 S 심볼을 맨 앞에 붙여준다.\n",
    "        output = [num_dic[n] for n in ('S' + seq[1])]\n",
    "        # 학습을 위해 비교할 디코더 셀의 출력값. 끝나는 것을 알려주기 위해 마지막에 E 를 붙인다.\n",
    "        target = [num_dic[n] for n in (seq[1] + 'E')]\n",
    "\n",
    "        input_batch.append(np.eye(dic_len)[input])\n",
    "        output_batch.append(np.eye(dic_len)[output])\n",
    "        # 출력값만 one-hot 인코딩이 아님 (sparse_softmax_cross_entropy_with_logits 사용)\n",
    "        target_batch.append(target)\n",
    "\n",
    "    return input_batch, output_batch, target_batch"
   ]
  },
  {
   "cell_type": "markdown",
   "metadata": {},
   "source": [
    "## Model Hyperparameter"
   ]
  },
  {
   "cell_type": "code",
   "execution_count": 5,
   "metadata": {
    "collapsed": true
   },
   "outputs": [],
   "source": [
    "#########\n",
    "# 옵션 설정\n",
    "######\n",
    "learning_rate = 0.01\n",
    "n_hidden = 128\n",
    "total_epoch = 100\n",
    "# 입력과 출력의 형태가 one-hot 인코딩으로 같으므로 크기도 같다.\n",
    "n_class = n_input = dic_len"
   ]
  },
  {
   "cell_type": "markdown",
   "metadata": {},
   "source": [
    "## Model Input 변수 선언"
   ]
  },
  {
   "cell_type": "code",
   "execution_count": 6,
   "metadata": {
    "collapsed": true
   },
   "outputs": [],
   "source": [
    "#########\n",
    "# 신경망 모델 구성\n",
    "######\n",
    "# Seq2Seq 모델은 인코더의 입력과 디코더의 입력의 형식이 같다.\n",
    "# [batch size, time steps, input size]\n",
    "enc_input = tf.placeholder(tf.float32, [None, None, n_input])\n",
    "dec_input = tf.placeholder(tf.float32, [None, None, n_input])\n",
    "# [batch size, time steps]\n",
    "targets = tf.placeholder(tf.int64, [None, None])"
   ]
  },
  {
   "cell_type": "markdown",
   "metadata": {},
   "source": [
    "## Model Encoder"
   ]
  },
  {
   "cell_type": "code",
   "execution_count": 7,
   "metadata": {
    "collapsed": true
   },
   "outputs": [],
   "source": [
    "# 인코더 셀을 구성한다.\n",
    "with tf.variable_scope('encode'):\n",
    "    enc_cell = tf.contrib.rnn.BasicRNNCell(n_hidden)\n",
    "    enc_cell = tf.contrib.rnn.DropoutWrapper(enc_cell, output_keep_prob=0.5)\n",
    "\n",
    "    outputs, enc_states = tf.nn.dynamic_rnn(enc_cell, enc_input,\n",
    "                                            dtype=tf.float32)"
   ]
  },
  {
   "cell_type": "markdown",
   "metadata": {},
   "source": [
    "## 모델 Decoder"
   ]
  },
  {
   "cell_type": "code",
   "execution_count": 8,
   "metadata": {
    "collapsed": true
   },
   "outputs": [],
   "source": [
    "# 디코더 셀을 구성한다.\n",
    "with tf.variable_scope('decode'):\n",
    "    dec_cell = tf.contrib.rnn.BasicRNNCell(n_hidden)\n",
    "    dec_cell = tf.contrib.rnn.DropoutWrapper(dec_cell, output_keep_prob=0.5)\n",
    "\n",
    "    # Seq2Seq 모델은 인코더 셀의 최종 상태값을\n",
    "    # 디코더 셀의 초기 상태값으로 넣어주는 것이 핵심.\n",
    "    outputs, dec_states = tf.nn.dynamic_rnn(dec_cell, dec_input,\n",
    "                                            initial_state=enc_states,\n",
    "                                            dtype=tf.float32)"
   ]
  },
  {
   "cell_type": "markdown",
   "metadata": {},
   "source": [
    "## Model Output"
   ]
  },
  {
   "cell_type": "code",
   "execution_count": 9,
   "metadata": {
    "collapsed": true
   },
   "outputs": [],
   "source": [
    "model = tf.layers.dense(outputs, n_class, activation=None)\n",
    "\n",
    "\n",
    "cost = tf.reduce_mean(\n",
    "            tf.nn.sparse_softmax_cross_entropy_with_logits(\n",
    "                logits=model, labels=targets))\n",
    "\n",
    "optimizer = tf.train.AdamOptimizer(learning_rate).minimize(cost)\n"
   ]
  },
  {
   "cell_type": "markdown",
   "metadata": {},
   "source": [
    "## Model 최적화"
   ]
  },
  {
   "cell_type": "code",
   "execution_count": 10,
   "metadata": {},
   "outputs": [
    {
     "name": "stdout",
     "output_type": "stream",
     "text": [
      "Epoch: 0001 cost = 3.733644\n",
      "Epoch: 0002 cost = 2.608317\n",
      "Epoch: 0003 cost = 1.562240\n",
      "Epoch: 0004 cost = 1.062219\n",
      "Epoch: 0005 cost = 0.784615\n",
      "Epoch: 0006 cost = 0.360671\n",
      "Epoch: 0007 cost = 0.507386\n",
      "Epoch: 0008 cost = 0.268035\n",
      "Epoch: 0009 cost = 0.159671\n",
      "Epoch: 0010 cost = 0.147679\n",
      "Epoch: 0011 cost = 0.176010\n",
      "Epoch: 0012 cost = 0.125509\n",
      "Epoch: 0013 cost = 0.144722\n",
      "Epoch: 0014 cost = 0.032159\n",
      "Epoch: 0015 cost = 0.025428\n",
      "Epoch: 0016 cost = 0.030772\n",
      "Epoch: 0017 cost = 0.108464\n",
      "Epoch: 0018 cost = 0.013651\n",
      "Epoch: 0019 cost = 0.035195\n",
      "Epoch: 0020 cost = 0.012074\n",
      "Epoch: 0021 cost = 0.036760\n",
      "Epoch: 0022 cost = 0.015284\n",
      "Epoch: 0023 cost = 0.019990\n",
      "Epoch: 0024 cost = 0.007557\n",
      "Epoch: 0025 cost = 0.003956\n",
      "Epoch: 0026 cost = 0.004825\n",
      "Epoch: 0027 cost = 0.001222\n",
      "Epoch: 0028 cost = 0.040252\n",
      "Epoch: 0029 cost = 0.008194\n",
      "Epoch: 0030 cost = 0.003574\n",
      "Epoch: 0031 cost = 0.002385\n",
      "Epoch: 0032 cost = 0.028096\n",
      "Epoch: 0033 cost = 0.008308\n",
      "Epoch: 0034 cost = 0.001493\n",
      "Epoch: 0035 cost = 0.018573\n",
      "Epoch: 0036 cost = 0.002290\n",
      "Epoch: 0037 cost = 0.003575\n",
      "Epoch: 0038 cost = 0.000389\n",
      "Epoch: 0039 cost = 0.005031\n",
      "Epoch: 0040 cost = 0.001196\n",
      "Epoch: 0041 cost = 0.004606\n",
      "Epoch: 0042 cost = 0.002770\n",
      "Epoch: 0043 cost = 0.005016\n",
      "Epoch: 0044 cost = 0.002024\n",
      "Epoch: 0045 cost = 0.001833\n",
      "Epoch: 0046 cost = 0.000607\n",
      "Epoch: 0047 cost = 0.001543\n",
      "Epoch: 0048 cost = 0.001264\n",
      "Epoch: 0049 cost = 0.000925\n",
      "Epoch: 0050 cost = 0.001587\n",
      "Epoch: 0051 cost = 0.004287\n",
      "Epoch: 0052 cost = 0.001739\n",
      "Epoch: 0053 cost = 0.001972\n",
      "Epoch: 0054 cost = 0.001716\n",
      "Epoch: 0055 cost = 0.000812\n",
      "Epoch: 0056 cost = 0.001037\n",
      "Epoch: 0057 cost = 0.001450\n",
      "Epoch: 0058 cost = 0.000657\n",
      "Epoch: 0059 cost = 0.000897\n",
      "Epoch: 0060 cost = 0.002338\n",
      "Epoch: 0061 cost = 0.000537\n",
      "Epoch: 0062 cost = 0.000475\n",
      "Epoch: 0063 cost = 0.002466\n",
      "Epoch: 0064 cost = 0.000774\n",
      "Epoch: 0065 cost = 0.011645\n",
      "Epoch: 0066 cost = 0.001816\n",
      "Epoch: 0067 cost = 0.000693\n",
      "Epoch: 0068 cost = 0.000569\n",
      "Epoch: 0069 cost = 0.000462\n",
      "Epoch: 0070 cost = 0.000206\n",
      "Epoch: 0071 cost = 0.001079\n",
      "Epoch: 0072 cost = 0.000266\n",
      "Epoch: 0073 cost = 0.000414\n",
      "Epoch: 0074 cost = 0.000570\n",
      "Epoch: 0075 cost = 0.000641\n",
      "Epoch: 0076 cost = 0.000737\n",
      "Epoch: 0077 cost = 0.000776\n",
      "Epoch: 0078 cost = 0.000490\n",
      "Epoch: 0079 cost = 0.000656\n",
      "Epoch: 0080 cost = 0.000762\n",
      "Epoch: 0081 cost = 0.000591\n",
      "Epoch: 0082 cost = 0.000461\n",
      "Epoch: 0083 cost = 0.001174\n",
      "Epoch: 0084 cost = 0.000520\n",
      "Epoch: 0085 cost = 0.001591\n",
      "Epoch: 0086 cost = 0.000477\n",
      "Epoch: 0087 cost = 0.000503\n",
      "Epoch: 0088 cost = 0.001885\n",
      "Epoch: 0089 cost = 0.000421\n",
      "Epoch: 0090 cost = 0.000746\n",
      "Epoch: 0091 cost = 0.000447\n",
      "Epoch: 0092 cost = 0.000689\n",
      "Epoch: 0093 cost = 0.000267\n",
      "Epoch: 0094 cost = 0.000335\n",
      "Epoch: 0095 cost = 0.000165\n",
      "Epoch: 0096 cost = 0.000333\n",
      "Epoch: 0097 cost = 0.000222\n",
      "Epoch: 0098 cost = 0.000160\n",
      "Epoch: 0099 cost = 0.000272\n",
      "Epoch: 0100 cost = 0.000311\n",
      "최적화 완료!\n"
     ]
    }
   ],
   "source": [
    "sess = tf.Session()\n",
    "sess.run(tf.global_variables_initializer())\n",
    "\n",
    "input_batch, output_batch, target_batch = make_batch(seq_data)\n",
    "\n",
    "for epoch in range(total_epoch):\n",
    "    _, loss = sess.run([optimizer, cost],\n",
    "                       feed_dict={enc_input: input_batch,\n",
    "                                  dec_input: output_batch,\n",
    "                                  targets: target_batch})\n",
    "\n",
    "    print('Epoch:', '%04d' % (epoch + 1),\n",
    "          'cost =', '{:.6f}'.format(loss))\n",
    "\n",
    "print('최적화 완료!')"
   ]
  },
  {
   "cell_type": "markdown",
   "metadata": {},
   "source": [
    "## Model 실험"
   ]
  },
  {
   "cell_type": "code",
   "execution_count": 11,
   "metadata": {
    "collapsed": true
   },
   "outputs": [],
   "source": [
    "def translate(word):\n",
    "    # 이 모델은 입력값과 출력값 데이터로 [영어단어, 한글단어] 사용하지만,\n",
    "    # 예측시에는 한글단어를 알지 못하므로, 디코더의 입출력값을 의미 없는 값인 P 값으로 채운다.\n",
    "    # ['word', 'PPPP']\n",
    "    seq_data = [word, 'P' * len(word)]\n",
    "\n",
    "    input_batch, output_batch, target_batch = make_batch([seq_data])\n",
    "\n",
    "    # 결과가 [batch size, time step, input] 으로 나오기 때문에,\n",
    "    # 2번째 차원인 input 차원을 argmax 로 취해 가장 확률이 높은 글자를 예측 값으로 만든다.\n",
    "    prediction = tf.argmax(model, 2)\n",
    "    \n",
    "    result = sess.run(prediction,\n",
    "                      feed_dict={enc_input: input_batch,\n",
    "                                 dec_input: output_batch,\n",
    "                                 targets: target_batch})\n",
    "\n",
    "    # 결과 값인 숫자의 인덱스에 해당하는 글자를 가져와 글자 배열을 만든다.\n",
    "    decoded = [char_arr[i] for i in result[0]]\n",
    "\n",
    "    # 출력의 끝을 의미하는 'E' 이후의 글자들을 제거하고 문자열로 만든다.\n",
    "    end = decoded.index('E')\n",
    "    translated = ''.join(decoded[:end])\n",
    "\n",
    "    return translated\n"
   ]
  },
  {
   "cell_type": "code",
   "execution_count": 12,
   "metadata": {},
   "outputs": [
    {
     "name": "stdout",
     "output_type": "stream",
     "text": [
      "\n",
      "=== 번역 테스트 ===\n",
      "word -> 단어\n",
      "wodr -> 나무\n",
      "love -> 사랑\n",
      "loev -> 사랑\n",
      "abcd -> 나무녀\n"
     ]
    }
   ],
   "source": [
    "print('\\n=== 번역 테스트 ===')\n",
    "\n",
    "print('word ->', translate('word'))\n",
    "print('wodr ->', translate('wodr'))\n",
    "print('love ->', translate('love'))\n",
    "print('loev ->', translate('loev'))\n",
    "print('abcd ->', translate('abcd'))"
   ]
  }
 ],
 "metadata": {
  "kernelspec": {
   "display_name": "Python 3",
   "language": "python",
   "name": "python3"
  },
  "language_info": {
   "codemirror_mode": {
    "name": "ipython",
    "version": 3
   },
   "file_extension": ".py",
   "mimetype": "text/x-python",
   "name": "python",
   "nbconvert_exporter": "python",
   "pygments_lexer": "ipython3",
   "version": "3.6.0"
  }
 },
 "nbformat": 4,
 "nbformat_minor": 2
}
