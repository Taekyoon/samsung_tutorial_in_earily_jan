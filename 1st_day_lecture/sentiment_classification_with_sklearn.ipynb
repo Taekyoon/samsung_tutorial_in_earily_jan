{
 "cells": [
  {
   "cell_type": "markdown",
   "metadata": {},
   "source": [
    "# Word2Vec을 활용한 머신러닝 실습\n",
    "\n",
    "이번 튜토리얼은 앞서 생성한 Word2Vec을 이용하여 Sentiment Analysis를 합니다. "
   ]
  },
  {
   "cell_type": "code",
   "execution_count": 64,
   "metadata": {
    "collapsed": true
   },
   "outputs": [],
   "source": [
    "from prepro import data_prepro, review_to_wordlist\n",
    "import pandas as pd\n",
    "from IPython.display import display\n",
    "from gensim.models import Word2Vec\n",
    "import numpy as np"
   ]
  },
  {
   "cell_type": "code",
   "execution_count": 2,
   "metadata": {
    "collapsed": true
   },
   "outputs": [],
   "source": [
    "train = pd.read_csv( \"../src/labeledTrainData.tsv\", header=0, delimiter=\"\\t\", quoting=3 )"
   ]
  },
  {
   "cell_type": "code",
   "execution_count": 25,
   "metadata": {
    "collapsed": true
   },
   "outputs": [],
   "source": [
    "dev_portion = 0.2\n",
    "train_count = int(train.shape[0] * (1 - dev_portion))"
   ]
  },
  {
   "cell_type": "markdown",
   "metadata": {},
   "source": [
    "## Data Filtering"
   ]
  },
  {
   "cell_type": "code",
   "execution_count": 26,
   "metadata": {
    "collapsed": true
   },
   "outputs": [],
   "source": [
    "train_input_data = data_prepro(train['review'][:train_count])\n",
    "train_labels = train['sentiment'][:train_count]\n",
    "\n",
    "dev_input_data = data_prepro(train['review'][train_count:])\n",
    "dev_labels = train['sentiment'][train_count:]"
   ]
  },
  {
   "cell_type": "code",
   "execution_count": 22,
   "metadata": {
    "scrolled": true
   },
   "outputs": [
    {
     "data": {
      "text/plain": [
       "'with all this stuff going down at the moment with mj i ve started listening to his music watching the odd documentary here and there watched the wiz and watched moonwalker again maybe i just want to get a certain insight into this guy who i thought was really cool in the eighties just to maybe make up my mind whether he is guilty or innocent moonwalker is part biography part feature film which i remember going to see at the cinema when it was originally released some of it has subtle messages about mj s feeling towards the press and also the obvious message of drugs are bad m kay visually impressive but of course this is all about michael jackson so unless you remotely like mj in anyway then you are going to hate this and find it boring some may call mj an egotist for consenting to the making of this movie but mj and most of his fans would say that he made it for the fans which if true is really nice of him the actual feature film bit when it finally starts is only on for minutes or so excluding the smooth criminal sequence and joe pesci is convincing as a psychopathic all powerful drug lord why he wants mj dead so bad is beyond me because mj overheard his plans nah joe pesci s character ranted that he wanted people to know it is he who is supplying drugs etc so i dunno maybe he just hates mj s music lots of cool things in this like mj turning into a car and a robot and the whole speed demon sequence also the director must have had the patience of a saint when it came to filming the kiddy bad sequence as usually directors hate working with one kid let alone a whole bunch of them performing a complex dance scene bottom line this movie is for people who like mj on one level or another which i think is most people if not then stay away it does try and give off a wholesome message and ironically mj s bestest buddy in this movie is a girl michael jackson is truly one of the most talented people ever to grace this planet but is he guilty well with all the attention i ve gave this subject hmmm well i don t know because people can be different behind closed doors i know this for a fact he is either an extremely nice but stupid guy or one of the most sickest liars i hope he is not the latter'"
      ]
     },
     "metadata": {},
     "output_type": "display_data"
    }
   ],
   "source": [
    "display(\" \".join(train_input_data[0]))"
   ]
  },
  {
   "cell_type": "code",
   "execution_count": 23,
   "metadata": {},
   "outputs": [
    {
     "data": {
      "text/plain": [
       "1"
      ]
     },
     "metadata": {},
     "output_type": "display_data"
    }
   ],
   "source": [
    "display(train_labels[0])"
   ]
  },
  {
   "cell_type": "markdown",
   "metadata": {},
   "source": [
    "## Load Model"
   ]
  },
  {
   "cell_type": "code",
   "execution_count": 12,
   "metadata": {
    "collapsed": true
   },
   "outputs": [],
   "source": [
    "model = Word2Vec.load(\"300features_40minwords_10context\")"
   ]
  },
  {
   "cell_type": "markdown",
   "metadata": {},
   "source": [
    "## 학습을 위한 Word Embedding Vector를 이용한 Sentence Embedding Vector 만들기\n",
    "\n",
    "여기서는 간단하게 Word Vector들의 평균을 활용하여 Sentence Embedding을 할 것입니다."
   ]
  },
  {
   "cell_type": "code",
   "execution_count": 14,
   "metadata": {
    "collapsed": true
   },
   "outputs": [],
   "source": [
    "def makeFeatureVec(words, model, num_features):\n",
    "    featureVec = np.zeros((num_features,),dtype=\"float32\")\n",
    "    nwords = 0. \n",
    "    index2word_set = set(model.wv.index2word)\n",
    "    for word in words:\n",
    "        if word in index2word_set: \n",
    "            nwords = nwords + 1.\n",
    "            featureVec = np.add(featureVec,model[word])\n",
    "    featureVec = np.divide(featureVec,nwords)\n",
    "    return featureVec"
   ]
  },
  {
   "cell_type": "code",
   "execution_count": 15,
   "metadata": {
    "collapsed": true
   },
   "outputs": [],
   "source": [
    "def getAvgFeatureVecs(reviews, model, num_features):\n",
    "    counter = 0\n",
    "    reviewFeatureVecs = np.zeros((len(reviews),num_features),dtype=\"float32\")\n",
    "    for review in reviews:\n",
    "        if counter%1000. == 0.:\n",
    "            print(\"Review %d of %d\" % (counter, len(reviews)))\n",
    "        reviewFeatureVecs[counter] = makeFeatureVec(review, model, num_features)\n",
    "        counter = counter + 1\n",
    "    return reviewFeatureVecs"
   ]
  },
  {
   "cell_type": "code",
   "execution_count": 30,
   "metadata": {},
   "outputs": [
    {
     "name": "stdout",
     "output_type": "stream",
     "text": [
      "Review 0 of 20000\n",
      "Review 1000 of 20000\n",
      "Review 2000 of 20000\n",
      "Review 3000 of 20000\n",
      "Review 4000 of 20000\n",
      "Review 5000 of 20000\n",
      "Review 6000 of 20000\n",
      "Review 7000 of 20000\n",
      "Review 8000 of 20000\n",
      "Review 9000 of 20000\n",
      "Review 10000 of 20000\n",
      "Review 11000 of 20000\n",
      "Review 12000 of 20000\n",
      "Review 13000 of 20000\n",
      "Review 14000 of 20000\n",
      "Review 15000 of 20000\n",
      "Review 16000 of 20000\n",
      "Review 17000 of 20000\n",
      "Review 18000 of 20000\n",
      "Review 19000 of 20000\n",
      "Review 0 of 5000\n",
      "Review 1000 of 5000\n",
      "Review 2000 of 5000\n",
      "Review 3000 of 5000\n",
      "Review 4000 of 5000\n"
     ]
    }
   ],
   "source": [
    "num_features = 300\n",
    "trainDataVecs = getAvgFeatureVecs(train_input_data, model, num_features)\n",
    "devDataVecs = getAvgFeatureVecs(dev_input_data, model, num_features)"
   ]
  },
  {
   "cell_type": "markdown",
   "metadata": {},
   "source": [
    "## Sentence Embedding Vector를 활용한 머신러닝 학습\n",
    "\n",
    "지금까지 만든 Sentence Embedding Vector를 이용하여 Sentiment Analysis 예측을 하려고 합니다. 여기선 RandomForest와 SVM, Linear Regression을 통해 학습을 합니다."
   ]
  },
  {
   "cell_type": "code",
   "execution_count": 29,
   "metadata": {},
   "outputs": [
    {
     "name": "stdout",
     "output_type": "stream",
     "text": [
      "Fitting a random forest to labeled training data...\n"
     ]
    }
   ],
   "source": [
    "from sklearn.ensemble import RandomForestClassifier\n",
    "forest = RandomForestClassifier( n_estimators = 100 )\n",
    "\n",
    "print(\"Fitting a random forest to labeled training data...\")\n",
    "forest = forest.fit(trainDataVecs, train_labels)"
   ]
  },
  {
   "cell_type": "code",
   "execution_count": 31,
   "metadata": {
    "collapsed": true
   },
   "outputs": [],
   "source": [
    "def accuracy(predict, ground_truth):\n",
    "    correct = 0\n",
    "    for p, g in zip(predict, ground_truth):\n",
    "        if p == g:\n",
    "            correct += 1\n",
    "            \n",
    "    return correct / len(predict)"
   ]
  },
  {
   "cell_type": "code",
   "execution_count": 41,
   "metadata": {},
   "outputs": [
    {
     "data": {
      "text/plain": [
       "'accuracy : 1.0'"
      ]
     },
     "metadata": {},
     "output_type": "display_data"
    },
    {
     "data": {
      "text/plain": [
       "'Mean Square Error : 0.0'"
      ]
     },
     "metadata": {},
     "output_type": "display_data"
    }
   ],
   "source": [
    "from sklearn.metrics import mean_squared_error\n",
    "predict = forest.predict(trainDataVecs)\n",
    "display(\"accuracy : \" + str(accuracy(predict, train_labels)))\n",
    "display(\"Mean Square Error : \" + str(mean_squared_error(predict, train_labels)))"
   ]
  },
  {
   "cell_type": "code",
   "execution_count": 42,
   "metadata": {},
   "outputs": [
    {
     "data": {
      "text/plain": [
       "'accuracy : 0.824'"
      ]
     },
     "metadata": {},
     "output_type": "display_data"
    },
    {
     "data": {
      "text/plain": [
       "'Mean Square Error : 0.176'"
      ]
     },
     "metadata": {},
     "output_type": "display_data"
    }
   ],
   "source": [
    "dev_predict = forest.predict(devDataVecs)\n",
    "display(\"accuracy : \" + str(accuracy(dev_predict, dev_labels)))\n",
    "display(\"Mean Square Error : \" + str(mean_squared_error(dev_predict, dev_labels)))"
   ]
  },
  {
   "cell_type": "code",
   "execution_count": 54,
   "metadata": {},
   "outputs": [
    {
     "name": "stdout",
     "output_type": "stream",
     "text": [
      "Fitting a SVR to labeled training data...\n"
     ]
    }
   ],
   "source": [
    "from sklearn.svm import SVR\n",
    "svm_reg = SVR(kernel=\"rbf\")\n",
    "\n",
    "print(\"Fitting a SVR to labeled training data...\")\n",
    "svm_reg = svm_reg.fit(trainDataVecs, train_labels)"
   ]
  },
  {
   "cell_type": "code",
   "execution_count": 55,
   "metadata": {},
   "outputs": [
    {
     "data": {
      "text/plain": [
       "'accuracy : 0.0'"
      ]
     },
     "metadata": {},
     "output_type": "display_data"
    },
    {
     "data": {
      "text/plain": [
       "'Mean Square Error : 0.211800763772'"
      ]
     },
     "metadata": {},
     "output_type": "display_data"
    }
   ],
   "source": [
    "predict = svm_reg.predict(trainDataVecs)\n",
    "display(\"accuracy : \" + str(accuracy(predict, train_labels)))\n",
    "display(\"Mean Square Error : \" + str(mean_squared_error(predict, train_labels)))"
   ]
  },
  {
   "cell_type": "code",
   "execution_count": 56,
   "metadata": {},
   "outputs": [
    {
     "data": {
      "text/plain": [
       "'accuracy : 0.0'"
      ]
     },
     "metadata": {},
     "output_type": "display_data"
    },
    {
     "data": {
      "text/plain": [
       "'Mean Square Error : 0.214130389543'"
      ]
     },
     "metadata": {},
     "output_type": "display_data"
    }
   ],
   "source": [
    "dev_predict = svm_reg.predict(devDataVecs)\n",
    "display(\"accuracy : \" + str(accuracy(dev_predict, dev_labels)))\n",
    "display(\"Mean Square Error : \" + str(mean_squared_error(dev_predict, dev_labels)))"
   ]
  },
  {
   "cell_type": "code",
   "execution_count": 50,
   "metadata": {},
   "outputs": [
    {
     "name": "stdout",
     "output_type": "stream",
     "text": [
      "Fitting a Linear Regression to labeled training data...\n"
     ]
    }
   ],
   "source": [
    "from sklearn.linear_model import LinearRegression\n",
    "lin_reg = LinearRegression()\n",
    "\n",
    "print(\"Fitting a Linear Regression to labeled training data...\")\n",
    "lin_reg = lin_reg.fit(trainDataVecs, train_labels)"
   ]
  },
  {
   "cell_type": "code",
   "execution_count": 51,
   "metadata": {},
   "outputs": [
    {
     "data": {
      "text/plain": [
       "'accuracy : 0.0'"
      ]
     },
     "metadata": {},
     "output_type": "display_data"
    },
    {
     "data": {
      "text/plain": [
       "'Mean Square Error : 0.113799310561'"
      ]
     },
     "metadata": {},
     "output_type": "display_data"
    }
   ],
   "source": [
    "predict = lin_reg.predict(trainDataVecs)\n",
    "display(\"accuracy : \" + str(accuracy(predict, train_labels)))\n",
    "display(\"Mean Square Error : \" + str(mean_squared_error(predict, train_labels)))"
   ]
  },
  {
   "cell_type": "code",
   "execution_count": 53,
   "metadata": {},
   "outputs": [
    {
     "data": {
      "text/plain": [
       "'accuracy : 0.0'"
      ]
     },
     "metadata": {},
     "output_type": "display_data"
    },
    {
     "data": {
      "text/plain": [
       "'Mean Square Error : 0.119380547427'"
      ]
     },
     "metadata": {},
     "output_type": "display_data"
    }
   ],
   "source": [
    "dev_predict = lin_reg.predict(devDataVecs)\n",
    "display(\"accuracy : \" + str(accuracy(dev_predict, dev_labels)))\n",
    "display(\"Mean Square Error : \" + str(mean_squared_error(dev_predict, dev_labels)))"
   ]
  },
  {
   "cell_type": "code",
   "execution_count": 58,
   "metadata": {},
   "outputs": [
    {
     "data": {
      "text/plain": [
       "RandomForestClassifier(bootstrap=True, class_weight=None, criterion='gini',\n",
       "            max_depth=None, max_features='auto', max_leaf_nodes=None,\n",
       "            min_impurity_decrease=0.0, min_impurity_split=None,\n",
       "            min_samples_leaf=1, min_samples_split=2,\n",
       "            min_weight_fraction_leaf=0.0, n_estimators=100, n_jobs=1,\n",
       "            oob_score=False, random_state=None, verbose=0,\n",
       "            warm_start=False)"
      ]
     },
     "execution_count": 58,
     "metadata": {},
     "output_type": "execute_result"
    }
   ],
   "source": [
    "from sklearn.ensemble import RandomForestClassifier\n",
    "from sklearn.model_selection import cross_val_score\n",
    "\n",
    "input_data = trainDataVecs\n",
    "label_data = train['sentiment']\n",
    "\n",
    "forest_cla = RandomForestClassifier(n_estimators = 100)\n",
    "\n",
    "forest_cla.fit(trainDataVecs, train_labels)"
   ]
  },
  {
   "cell_type": "code",
   "execution_count": 61,
   "metadata": {
    "collapsed": true
   },
   "outputs": [],
   "source": [
    "dev_predict = forest_cla.predict(devDataVecs)"
   ]
  },
  {
   "cell_type": "code",
   "execution_count": 62,
   "metadata": {},
   "outputs": [
    {
     "data": {
      "text/plain": [
       "'accuracy : 0.8254'"
      ]
     },
     "metadata": {},
     "output_type": "display_data"
    },
    {
     "data": {
      "text/plain": [
       "'Mean Square Error : 0.1746'"
      ]
     },
     "metadata": {},
     "output_type": "display_data"
    }
   ],
   "source": [
    "display(\"accuracy : \" + str(accuracy(dev_predict, dev_labels)))\n",
    "display(\"Mean Square Error : \" + str(mean_squared_error(dev_predict, dev_labels)))"
   ]
  },
  {
   "cell_type": "markdown",
   "metadata": {},
   "source": [
    "## 모델 예측 실험\n",
    "\n",
    "지금까지 만들어 본 모델을 가지고 Sentiment가 어떤지 확인해 봅니다.\n",
    "\n",
    "* 긍정인 경우 : 1, 부정인 경우 : 0"
   ]
  },
  {
   "cell_type": "code",
   "execution_count": 65,
   "metadata": {
    "collapsed": true
   },
   "outputs": [],
   "source": [
    "test_str_list = [\"I love this movie! It was awesome when I was watching the best scenery.\", \n",
    "                 \"Because it was boring, I hate this movie. It was too much useless, and I don't wann recommend this.\",\n",
    "                 \"The reason I watched this movie is every pictures are like super and amazingly wonderful! I'd like to see this again.\",\n",
    "                 \"Even though someone recommend this, I will disagree with his thought. It's just terrible and horrible movie ever I've seen.\",\n",
    "                 \"Greatly maded with fantastic casts! The players are facinating. Every scene was perfect to beat my heart.\",\n",
    "                 \"I have no idea why director made this! It was totally disaster. Awful casts! Terrible plots!\",\n",
    "                 \"Someone told me this is great because there are amazing catings and wonderful plots, but finally the worst movie ever I've seen.\",\n",
    "                 \"Sounds like interesting!\"]\n",
    "\n",
    "test_reviews = []\n",
    "for review in test_str_list:\n",
    "    test_reviews.append(review_to_wordlist(review))"
   ]
  },
  {
   "cell_type": "code",
   "execution_count": 66,
   "metadata": {},
   "outputs": [
    {
     "name": "stdout",
     "output_type": "stream",
     "text": [
      "Review 0 of 8\n"
     ]
    }
   ],
   "source": [
    "test_inputs = getAvgFeatureVecs( test_reviews, model, num_features )"
   ]
  },
  {
   "cell_type": "code",
   "execution_count": 67,
   "metadata": {},
   "outputs": [
    {
     "data": {
      "text/plain": [
       "array([1, 0, 1, 0, 1, 0, 1, 0])"
      ]
     },
     "metadata": {},
     "output_type": "display_data"
    }
   ],
   "source": [
    "display(forest_cla.predict(test_inputs))"
   ]
  }
 ],
 "metadata": {
  "kernelspec": {
   "display_name": "Python 3",
   "language": "python",
   "name": "python3"
  },
  "language_info": {
   "codemirror_mode": {
    "name": "ipython",
    "version": 3
   },
   "file_extension": ".py",
   "mimetype": "text/x-python",
   "name": "python",
   "nbconvert_exporter": "python",
   "pygments_lexer": "ipython3",
   "version": "3.6.0"
  }
 },
 "nbformat": 4,
 "nbformat_minor": 2
}
